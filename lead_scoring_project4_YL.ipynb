{
 "cells": [
  {
   "cell_type": "markdown",
   "metadata": {},
   "source": [
    "## Title\n",
    "\n",
    "### Objective\n",
    "\n",
    "## Table of Contents\n",
    "\n",
    "- [Data Analysis Project](#data-analysis-project)\n",
    "  - [Table of Contents](#table-of-contents)\n",
    "  - [Data Preprocessing](#data-preprocessing)\n",
    "    - [Data Loading](#data-loading)\n",
    "    - [Data Inspection](#data-inspection)\n",
    "    - [Exploratory Data Analysis (EDA)](#exploratory-data-analysis-eda)\n",
    "      - [Data Cleaning](#data-cleaning)\n",
    "          -[Handling Missing Data and Structural Errors](handling-missing-data-and-structural-errors)\n",
    "          -[Other Colums cleanup](other-colums-cleanup)\n",
    "  - [Feature Engineering and Transformation](#feature-engineering-and-transformation)\n",
    "    - [Discretization](#discretization)\n",
    "    - [Categorical Encoding](#categorical-encoding)\n",
    "    - [Variable Transformation](#variable-transformation)\n",
    "    - [Scaling](#scaling)\n",
    "    - [Dimensionality Reduction](#dimensionality-reduction)\n",
    "  - [Model Implementation](#model-implementation)\n",
    "    - [Supervised Learning](#supervised-learning)\n",
    "    - [Model Evaluation](#model-evaluation)\n",
    "  - [Model Optimization](#model-optimization)\n",
    "    - [Hyperparameter Tuning](#hyperparameter-tuning)\n",
    "    - [Regularization](#regularization)\n",
    "    - [Visualizations](#visualizations)\n",
    "  - [Presentation](#presentation)\n",
    "    - [Clear Objectives](#clear-objectives)\n",
    "    - [Model Performance](#model-performance)\n",
    "    - [Interactivity (Optional)](#interactivity-optional)"
   ]
  },
  {
   "cell_type": "markdown",
   "metadata": {},
   "source": [
    "---"
   ]
  },
  {
   "cell_type": "markdown",
   "metadata": {},
   "source": [
    "### Import Dependencies"
   ]
  },
  {
   "cell_type": "code",
   "execution_count": 1,
   "metadata": {},
   "outputs": [],
   "source": [
    "# Import our dependencies\n",
    "from sklearn.model_selection import train_test_split\n",
    "from sklearn.preprocessing import StandardScaler\n",
    "import pandas as pd\n",
    "import tensorflow as tf\n",
    "import numpy as np\n",
    "from pathlib import Path\n",
    "import matplotlib.pyplot as plt\n",
    "from matplotlib.pyplot import xticks\n",
    "%matplotlib inline\n",
    "import seaborn as sns\n",
    "from scipy.stats import skew, norm\n",
    "from sklearn.metrics import confusion_matrix, classification_report"
   ]
  },
  {
   "cell_type": "markdown",
   "metadata": {},
   "source": [
    "---"
   ]
  },
  {
   "cell_type": "markdown",
   "metadata": {},
   "source": [
    "## Data Preprocessing"
   ]
  },
  {
   "cell_type": "markdown",
   "metadata": {},
   "source": [
    "### Data Loading\n",
    "- Load the `Leads.csv` data from the `Resources` folder into a Pandas DataFrame."
   ]
  },
  {
   "cell_type": "code",
   "execution_count": 2,
   "metadata": {},
   "outputs": [
    {
     "data": {
      "text/html": [
       "<div>\n",
       "<style scoped>\n",
       "    .dataframe tbody tr th:only-of-type {\n",
       "        vertical-align: middle;\n",
       "    }\n",
       "\n",
       "    .dataframe tbody tr th {\n",
       "        vertical-align: top;\n",
       "    }\n",
       "\n",
       "    .dataframe thead th {\n",
       "        text-align: right;\n",
       "    }\n",
       "</style>\n",
       "<table border=\"1\" class=\"dataframe\">\n",
       "  <thead>\n",
       "    <tr style=\"text-align: right;\">\n",
       "      <th></th>\n",
       "      <th>Prospect ID</th>\n",
       "      <th>Lead Number</th>\n",
       "      <th>Lead Origin</th>\n",
       "      <th>Lead Source</th>\n",
       "      <th>Do Not Email</th>\n",
       "      <th>Do Not Call</th>\n",
       "      <th>Converted</th>\n",
       "      <th>TotalVisits</th>\n",
       "      <th>Total Time Spent on Website</th>\n",
       "      <th>Page Views Per Visit</th>\n",
       "      <th>...</th>\n",
       "      <th>Get updates on DM Content</th>\n",
       "      <th>Lead Profile</th>\n",
       "      <th>City</th>\n",
       "      <th>Asymmetrique Activity Index</th>\n",
       "      <th>Asymmetrique Profile Index</th>\n",
       "      <th>Asymmetrique Activity Score</th>\n",
       "      <th>Asymmetrique Profile Score</th>\n",
       "      <th>I agree to pay the amount through cheque</th>\n",
       "      <th>A free copy of Mastering The Interview</th>\n",
       "      <th>Last Notable Activity</th>\n",
       "    </tr>\n",
       "  </thead>\n",
       "  <tbody>\n",
       "    <tr>\n",
       "      <th>0</th>\n",
       "      <td>7927b2df-8bba-4d29-b9a2-b6e0beafe620</td>\n",
       "      <td>660737</td>\n",
       "      <td>API</td>\n",
       "      <td>Olark Chat</td>\n",
       "      <td>No</td>\n",
       "      <td>No</td>\n",
       "      <td>0</td>\n",
       "      <td>0.0</td>\n",
       "      <td>0</td>\n",
       "      <td>0.0</td>\n",
       "      <td>...</td>\n",
       "      <td>No</td>\n",
       "      <td>Select</td>\n",
       "      <td>Select</td>\n",
       "      <td>02.Medium</td>\n",
       "      <td>02.Medium</td>\n",
       "      <td>15.0</td>\n",
       "      <td>15.0</td>\n",
       "      <td>No</td>\n",
       "      <td>No</td>\n",
       "      <td>Modified</td>\n",
       "    </tr>\n",
       "    <tr>\n",
       "      <th>1</th>\n",
       "      <td>2a272436-5132-4136-86fa-dcc88c88f482</td>\n",
       "      <td>660728</td>\n",
       "      <td>API</td>\n",
       "      <td>Organic Search</td>\n",
       "      <td>No</td>\n",
       "      <td>No</td>\n",
       "      <td>0</td>\n",
       "      <td>5.0</td>\n",
       "      <td>674</td>\n",
       "      <td>2.5</td>\n",
       "      <td>...</td>\n",
       "      <td>No</td>\n",
       "      <td>Select</td>\n",
       "      <td>Select</td>\n",
       "      <td>02.Medium</td>\n",
       "      <td>02.Medium</td>\n",
       "      <td>15.0</td>\n",
       "      <td>15.0</td>\n",
       "      <td>No</td>\n",
       "      <td>No</td>\n",
       "      <td>Email Opened</td>\n",
       "    </tr>\n",
       "    <tr>\n",
       "      <th>2</th>\n",
       "      <td>8cc8c611-a219-4f35-ad23-fdfd2656bd8a</td>\n",
       "      <td>660727</td>\n",
       "      <td>Landing Page Submission</td>\n",
       "      <td>Direct Traffic</td>\n",
       "      <td>No</td>\n",
       "      <td>No</td>\n",
       "      <td>1</td>\n",
       "      <td>2.0</td>\n",
       "      <td>1532</td>\n",
       "      <td>2.0</td>\n",
       "      <td>...</td>\n",
       "      <td>No</td>\n",
       "      <td>Potential Lead</td>\n",
       "      <td>Mumbai</td>\n",
       "      <td>02.Medium</td>\n",
       "      <td>01.High</td>\n",
       "      <td>14.0</td>\n",
       "      <td>20.0</td>\n",
       "      <td>No</td>\n",
       "      <td>Yes</td>\n",
       "      <td>Email Opened</td>\n",
       "    </tr>\n",
       "    <tr>\n",
       "      <th>3</th>\n",
       "      <td>0cc2df48-7cf4-4e39-9de9-19797f9b38cc</td>\n",
       "      <td>660719</td>\n",
       "      <td>Landing Page Submission</td>\n",
       "      <td>Direct Traffic</td>\n",
       "      <td>No</td>\n",
       "      <td>No</td>\n",
       "      <td>0</td>\n",
       "      <td>1.0</td>\n",
       "      <td>305</td>\n",
       "      <td>1.0</td>\n",
       "      <td>...</td>\n",
       "      <td>No</td>\n",
       "      <td>Select</td>\n",
       "      <td>Mumbai</td>\n",
       "      <td>02.Medium</td>\n",
       "      <td>01.High</td>\n",
       "      <td>13.0</td>\n",
       "      <td>17.0</td>\n",
       "      <td>No</td>\n",
       "      <td>No</td>\n",
       "      <td>Modified</td>\n",
       "    </tr>\n",
       "    <tr>\n",
       "      <th>4</th>\n",
       "      <td>3256f628-e534-4826-9d63-4a8b88782852</td>\n",
       "      <td>660681</td>\n",
       "      <td>Landing Page Submission</td>\n",
       "      <td>Google</td>\n",
       "      <td>No</td>\n",
       "      <td>No</td>\n",
       "      <td>1</td>\n",
       "      <td>2.0</td>\n",
       "      <td>1428</td>\n",
       "      <td>1.0</td>\n",
       "      <td>...</td>\n",
       "      <td>No</td>\n",
       "      <td>Select</td>\n",
       "      <td>Mumbai</td>\n",
       "      <td>02.Medium</td>\n",
       "      <td>01.High</td>\n",
       "      <td>15.0</td>\n",
       "      <td>18.0</td>\n",
       "      <td>No</td>\n",
       "      <td>No</td>\n",
       "      <td>Modified</td>\n",
       "    </tr>\n",
       "  </tbody>\n",
       "</table>\n",
       "<p>5 rows × 37 columns</p>\n",
       "</div>"
      ],
      "text/plain": [
       "                            Prospect ID  Lead Number              Lead Origin  \\\n",
       "0  7927b2df-8bba-4d29-b9a2-b6e0beafe620       660737                      API   \n",
       "1  2a272436-5132-4136-86fa-dcc88c88f482       660728                      API   \n",
       "2  8cc8c611-a219-4f35-ad23-fdfd2656bd8a       660727  Landing Page Submission   \n",
       "3  0cc2df48-7cf4-4e39-9de9-19797f9b38cc       660719  Landing Page Submission   \n",
       "4  3256f628-e534-4826-9d63-4a8b88782852       660681  Landing Page Submission   \n",
       "\n",
       "      Lead Source Do Not Email Do Not Call  Converted  TotalVisits  \\\n",
       "0      Olark Chat           No          No          0          0.0   \n",
       "1  Organic Search           No          No          0          5.0   \n",
       "2  Direct Traffic           No          No          1          2.0   \n",
       "3  Direct Traffic           No          No          0          1.0   \n",
       "4          Google           No          No          1          2.0   \n",
       "\n",
       "   Total Time Spent on Website  Page Views Per Visit  ...  \\\n",
       "0                            0                   0.0  ...   \n",
       "1                          674                   2.5  ...   \n",
       "2                         1532                   2.0  ...   \n",
       "3                          305                   1.0  ...   \n",
       "4                         1428                   1.0  ...   \n",
       "\n",
       "  Get updates on DM Content    Lead Profile    City  \\\n",
       "0                        No          Select  Select   \n",
       "1                        No          Select  Select   \n",
       "2                        No  Potential Lead  Mumbai   \n",
       "3                        No          Select  Mumbai   \n",
       "4                        No          Select  Mumbai   \n",
       "\n",
       "  Asymmetrique Activity Index Asymmetrique Profile Index  \\\n",
       "0                   02.Medium                  02.Medium   \n",
       "1                   02.Medium                  02.Medium   \n",
       "2                   02.Medium                    01.High   \n",
       "3                   02.Medium                    01.High   \n",
       "4                   02.Medium                    01.High   \n",
       "\n",
       "  Asymmetrique Activity Score Asymmetrique Profile Score  \\\n",
       "0                        15.0                       15.0   \n",
       "1                        15.0                       15.0   \n",
       "2                        14.0                       20.0   \n",
       "3                        13.0                       17.0   \n",
       "4                        15.0                       18.0   \n",
       "\n",
       "  I agree to pay the amount through cheque  \\\n",
       "0                                       No   \n",
       "1                                       No   \n",
       "2                                       No   \n",
       "3                                       No   \n",
       "4                                       No   \n",
       "\n",
       "  A free copy of Mastering The Interview Last Notable Activity  \n",
       "0                                     No              Modified  \n",
       "1                                     No          Email Opened  \n",
       "2                                    Yes          Email Opened  \n",
       "3                                     No              Modified  \n",
       "4                                     No              Modified  \n",
       "\n",
       "[5 rows x 37 columns]"
      ]
     },
     "execution_count": 2,
     "metadata": {},
     "output_type": "execute_result"
    }
   ],
   "source": [
    "# Read the CSV file from the Resources folder into a Pandas DataFrame\n",
    "df_leads = pd.read_csv(\"Resources/Leads.csv\")\n",
    "\n",
    "# Review the DataFrame\n",
    "df_leads.head()"
   ]
  },
  {
   "cell_type": "markdown",
   "metadata": {},
   "source": [
    "### Data Inspection\n",
    "- Handle missing values, column types, and summary statistics."
   ]
  },
  {
   "cell_type": "code",
   "execution_count": 3,
   "metadata": {},
   "outputs": [
    {
     "data": {
      "text/plain": [
       "(9240, 37)"
      ]
     },
     "execution_count": 3,
     "metadata": {},
     "output_type": "execute_result"
    }
   ],
   "source": [
    "#checking total rows and cols in dataset\n",
    "df_leads.shape"
   ]
  },
  {
   "cell_type": "markdown",
   "metadata": {},
   "source": [
    "The Leads.csv has 9,240 rows and 37 columns"
   ]
  },
  {
   "cell_type": "code",
   "execution_count": 4,
   "metadata": {},
   "outputs": [
    {
     "name": "stdout",
     "output_type": "stream",
     "text": [
      "<class 'pandas.core.frame.DataFrame'>\n",
      "RangeIndex: 9240 entries, 0 to 9239\n",
      "Data columns (total 37 columns):\n",
      " #   Column                                         Non-Null Count  Dtype  \n",
      "---  ------                                         --------------  -----  \n",
      " 0   Prospect ID                                    9240 non-null   object \n",
      " 1   Lead Number                                    9240 non-null   int64  \n",
      " 2   Lead Origin                                    9240 non-null   object \n",
      " 3   Lead Source                                    9204 non-null   object \n",
      " 4   Do Not Email                                   9240 non-null   object \n",
      " 5   Do Not Call                                    9240 non-null   object \n",
      " 6   Converted                                      9240 non-null   int64  \n",
      " 7   TotalVisits                                    9103 non-null   float64\n",
      " 8   Total Time Spent on Website                    9240 non-null   int64  \n",
      " 9   Page Views Per Visit                           9103 non-null   float64\n",
      " 10  Last Activity                                  9137 non-null   object \n",
      " 11  Country                                        6779 non-null   object \n",
      " 12  Specialization                                 7802 non-null   object \n",
      " 13  How did you hear about X Education             7033 non-null   object \n",
      " 14  What is your current occupation                6550 non-null   object \n",
      " 15  What matters most to you in choosing a course  6531 non-null   object \n",
      " 16  Search                                         9240 non-null   object \n",
      " 17  Magazine                                       9240 non-null   object \n",
      " 18  Newspaper Article                              9240 non-null   object \n",
      " 19  X Education Forums                             9240 non-null   object \n",
      " 20  Newspaper                                      9240 non-null   object \n",
      " 21  Digital Advertisement                          9240 non-null   object \n",
      " 22  Through Recommendations                        9240 non-null   object \n",
      " 23  Receive More Updates About Our Courses         9240 non-null   object \n",
      " 24  Tags                                           5887 non-null   object \n",
      " 25  Lead Quality                                   4473 non-null   object \n",
      " 26  Update me on Supply Chain Content              9240 non-null   object \n",
      " 27  Get updates on DM Content                      9240 non-null   object \n",
      " 28  Lead Profile                                   6531 non-null   object \n",
      " 29  City                                           7820 non-null   object \n",
      " 30  Asymmetrique Activity Index                    5022 non-null   object \n",
      " 31  Asymmetrique Profile Index                     5022 non-null   object \n",
      " 32  Asymmetrique Activity Score                    5022 non-null   float64\n",
      " 33  Asymmetrique Profile Score                     5022 non-null   float64\n",
      " 34  I agree to pay the amount through cheque       9240 non-null   object \n",
      " 35  A free copy of Mastering The Interview         9240 non-null   object \n",
      " 36  Last Notable Activity                          9240 non-null   object \n",
      "dtypes: float64(4), int64(3), object(30)\n",
      "memory usage: 2.6+ MB\n"
     ]
    }
   ],
   "source": [
    "#data check\n",
    "df_leads.info()"
   ]
  },
  {
   "cell_type": "code",
   "execution_count": 5,
   "metadata": {},
   "outputs": [
    {
     "data": {
      "text/html": [
       "<div>\n",
       "<style scoped>\n",
       "    .dataframe tbody tr th:only-of-type {\n",
       "        vertical-align: middle;\n",
       "    }\n",
       "\n",
       "    .dataframe tbody tr th {\n",
       "        vertical-align: top;\n",
       "    }\n",
       "\n",
       "    .dataframe thead th {\n",
       "        text-align: right;\n",
       "    }\n",
       "</style>\n",
       "<table border=\"1\" class=\"dataframe\">\n",
       "  <thead>\n",
       "    <tr style=\"text-align: right;\">\n",
       "      <th></th>\n",
       "      <th>Lead Number</th>\n",
       "      <th>Converted</th>\n",
       "      <th>TotalVisits</th>\n",
       "      <th>Total Time Spent on Website</th>\n",
       "      <th>Page Views Per Visit</th>\n",
       "      <th>Asymmetrique Activity Score</th>\n",
       "      <th>Asymmetrique Profile Score</th>\n",
       "    </tr>\n",
       "  </thead>\n",
       "  <tbody>\n",
       "    <tr>\n",
       "      <th>count</th>\n",
       "      <td>9240.000000</td>\n",
       "      <td>9240.000000</td>\n",
       "      <td>9103.000000</td>\n",
       "      <td>9240.000000</td>\n",
       "      <td>9103.000000</td>\n",
       "      <td>5022.000000</td>\n",
       "      <td>5022.000000</td>\n",
       "    </tr>\n",
       "    <tr>\n",
       "      <th>mean</th>\n",
       "      <td>617188.435606</td>\n",
       "      <td>0.385390</td>\n",
       "      <td>3.445238</td>\n",
       "      <td>487.698268</td>\n",
       "      <td>2.362820</td>\n",
       "      <td>14.306252</td>\n",
       "      <td>16.344883</td>\n",
       "    </tr>\n",
       "    <tr>\n",
       "      <th>std</th>\n",
       "      <td>23405.995698</td>\n",
       "      <td>0.486714</td>\n",
       "      <td>4.854853</td>\n",
       "      <td>548.021466</td>\n",
       "      <td>2.161418</td>\n",
       "      <td>1.386694</td>\n",
       "      <td>1.811395</td>\n",
       "    </tr>\n",
       "    <tr>\n",
       "      <th>min</th>\n",
       "      <td>579533.000000</td>\n",
       "      <td>0.000000</td>\n",
       "      <td>0.000000</td>\n",
       "      <td>0.000000</td>\n",
       "      <td>0.000000</td>\n",
       "      <td>7.000000</td>\n",
       "      <td>11.000000</td>\n",
       "    </tr>\n",
       "    <tr>\n",
       "      <th>25%</th>\n",
       "      <td>596484.500000</td>\n",
       "      <td>0.000000</td>\n",
       "      <td>1.000000</td>\n",
       "      <td>12.000000</td>\n",
       "      <td>1.000000</td>\n",
       "      <td>14.000000</td>\n",
       "      <td>15.000000</td>\n",
       "    </tr>\n",
       "    <tr>\n",
       "      <th>50%</th>\n",
       "      <td>615479.000000</td>\n",
       "      <td>0.000000</td>\n",
       "      <td>3.000000</td>\n",
       "      <td>248.000000</td>\n",
       "      <td>2.000000</td>\n",
       "      <td>14.000000</td>\n",
       "      <td>16.000000</td>\n",
       "    </tr>\n",
       "    <tr>\n",
       "      <th>75%</th>\n",
       "      <td>637387.250000</td>\n",
       "      <td>1.000000</td>\n",
       "      <td>5.000000</td>\n",
       "      <td>936.000000</td>\n",
       "      <td>3.000000</td>\n",
       "      <td>15.000000</td>\n",
       "      <td>18.000000</td>\n",
       "    </tr>\n",
       "    <tr>\n",
       "      <th>max</th>\n",
       "      <td>660737.000000</td>\n",
       "      <td>1.000000</td>\n",
       "      <td>251.000000</td>\n",
       "      <td>2272.000000</td>\n",
       "      <td>55.000000</td>\n",
       "      <td>18.000000</td>\n",
       "      <td>20.000000</td>\n",
       "    </tr>\n",
       "  </tbody>\n",
       "</table>\n",
       "</div>"
      ],
      "text/plain": [
       "         Lead Number    Converted  TotalVisits  Total Time Spent on Website  \\\n",
       "count    9240.000000  9240.000000  9103.000000                  9240.000000   \n",
       "mean   617188.435606     0.385390     3.445238                   487.698268   \n",
       "std     23405.995698     0.486714     4.854853                   548.021466   \n",
       "min    579533.000000     0.000000     0.000000                     0.000000   \n",
       "25%    596484.500000     0.000000     1.000000                    12.000000   \n",
       "50%    615479.000000     0.000000     3.000000                   248.000000   \n",
       "75%    637387.250000     1.000000     5.000000                   936.000000   \n",
       "max    660737.000000     1.000000   251.000000                  2272.000000   \n",
       "\n",
       "       Page Views Per Visit  Asymmetrique Activity Score  \\\n",
       "count           9103.000000                  5022.000000   \n",
       "mean               2.362820                    14.306252   \n",
       "std                2.161418                     1.386694   \n",
       "min                0.000000                     7.000000   \n",
       "25%                1.000000                    14.000000   \n",
       "50%                2.000000                    14.000000   \n",
       "75%                3.000000                    15.000000   \n",
       "max               55.000000                    18.000000   \n",
       "\n",
       "       Asymmetrique Profile Score  \n",
       "count                 5022.000000  \n",
       "mean                    16.344883  \n",
       "std                      1.811395  \n",
       "min                     11.000000  \n",
       "25%                     15.000000  \n",
       "50%                     16.000000  \n",
       "75%                     18.000000  \n",
       "max                     20.000000  "
      ]
     },
     "execution_count": 5,
     "metadata": {},
     "output_type": "execute_result"
    }
   ],
   "source": [
    "df_leads.describe()"
   ]
  },
  {
   "cell_type": "markdown",
   "metadata": {},
   "source": [
    "### Exploratory Data Analysis (EDA)"
   ]
  },
  {
   "cell_type": "markdown",
   "metadata": {},
   "source": [
    "Will keep the index number from the original Dataset, and will be removing or transforming data, analyzing one by one\n"
   ]
  },
  {
   "cell_type": "code",
   "execution_count": 6,
   "metadata": {},
   "outputs": [
    {
     "name": "stdout",
     "output_type": "stream",
     "text": [
      "0 - Prospect ID\n",
      "1 - Lead Number\n",
      "2 - Lead Origin\n",
      "3 - Lead Source\n",
      "4 - Do Not Email\n",
      "5 - Do Not Call\n",
      "6 - Converted\n",
      "7 - TotalVisits\n",
      "8 - Total Time Spent on Website\n",
      "9 - Page Views Per Visit\n",
      "10 - Last Activity\n",
      "11 - Country\n",
      "12 - Specialization\n",
      "13 - How did you hear about X Education\n",
      "14 - What is your current occupation\n",
      "15 - What matters most to you in choosing a course\n",
      "16 - Search\n",
      "17 - Magazine\n",
      "18 - Newspaper Article\n",
      "19 - X Education Forums\n",
      "20 - Newspaper\n",
      "21 - Digital Advertisement\n",
      "22 - Through Recommendations\n",
      "23 - Receive More Updates About Our Courses\n",
      "24 - Tags\n",
      "25 - Lead Quality\n",
      "26 - Update me on Supply Chain Content\n",
      "27 - Get updates on DM Content\n",
      "28 - Lead Profile\n",
      "29 - City\n",
      "30 - Asymmetrique Activity Index\n",
      "31 - Asymmetrique Profile Index\n",
      "32 - Asymmetrique Activity Score\n",
      "33 - Asymmetrique Profile Score\n",
      "34 - I agree to pay the amount through cheque\n",
      "35 - A free copy of Mastering The Interview\n",
      "36 - Last Notable Activity\n"
     ]
    }
   ],
   "source": [
    "for i, col in enumerate(df_leads.columns):\n",
    "    print(f\"{i} - {col}\")"
   ]
  },
  {
   "cell_type": "markdown",
   "metadata": {},
   "source": [
    "####  No lo neceisto creoData Cleaning"
   ]
  },
  {
   "cell_type": "markdown",
   "metadata": {},
   "source": [
    "-  no lo necesito Remove duplicates, handle outliers, fix structural errors, and deal with missing data."
   ]
  },
  {
   "cell_type": "markdown",
   "metadata": {},
   "source": [
    "Reviewing if the 0 - Prospect ID and 1 - Lead Number columns have any duplicates"
   ]
  },
  {
   "cell_type": "code",
   "execution_count": 7,
   "metadata": {},
   "outputs": [
    {
     "name": "stdout",
     "output_type": "stream",
     "text": [
      "Index(['Prospect ID', 'Lead Number', 'Lead Origin', 'Lead Source',\n",
      "       'Do Not Email', 'Do Not Call', 'Converted', 'TotalVisits',\n",
      "       'Total Time Spent on Website', 'Page Views Per Visit', 'Last Activity',\n",
      "       'Country', 'Specialization', 'How did you hear about X Education',\n",
      "       'What is your current occupation',\n",
      "       'What matters most to you in choosing a course', 'Search', 'Magazine',\n",
      "       'Newspaper Article', 'X Education Forums', 'Newspaper',\n",
      "       'Digital Advertisement', 'Through Recommendations',\n",
      "       'Receive More Updates About Our Courses', 'Tags', 'Lead Quality',\n",
      "       'Update me on Supply Chain Content', 'Get updates on DM Content',\n",
      "       'Lead Profile', 'City', 'Asymmetrique Activity Index',\n",
      "       'Asymmetrique Profile Index', 'Asymmetrique Activity Score',\n",
      "       'Asymmetrique Profile Score',\n",
      "       'I agree to pay the amount through cheque',\n",
      "       'A free copy of Mastering The Interview', 'Last Notable Activity'],\n",
      "      dtype='object')\n"
     ]
    }
   ],
   "source": [
    "print(df_leads.columns)"
   ]
  },
  {
   "cell_type": "code",
   "execution_count": 8,
   "metadata": {},
   "outputs": [
    {
     "name": "stdout",
     "output_type": "stream",
     "text": [
      "Number of duplicate 'Lead Number' entries: 0\n",
      "Number of duplicate 'Prospect ID' entries: 0\n"
     ]
    }
   ],
   "source": [
    "# Check for duplicate values in the \"Lead Number\" column\n",
    "duplicate_count_LN = df_leads[\"Lead Number\"].duplicated().sum()\n",
    "print(f\"Number of duplicate 'Lead Number' entries: {duplicate_count_LN}\")\n",
    "\n",
    "# Check for duplicate values in the \"Lead Number\" column\n",
    "duplicate_count_PID = df_leads[\"Prospect ID\"].duplicated().sum()\n",
    "print(f\"Number of duplicate 'Prospect ID' entries: {duplicate_count_PID}\")"
   ]
  },
  {
   "cell_type": "markdown",
   "metadata": {},
   "source": [
    "0 - Prospect ID and 1 - Lead Number are unique identification numbers, they not relevent to this analysis, so they will be dropped. "
   ]
  },
  {
   "cell_type": "code",
   "execution_count": 9,
   "metadata": {},
   "outputs": [
    {
     "data": {
      "text/html": [
       "<div>\n",
       "<style scoped>\n",
       "    .dataframe tbody tr th:only-of-type {\n",
       "        vertical-align: middle;\n",
       "    }\n",
       "\n",
       "    .dataframe tbody tr th {\n",
       "        vertical-align: top;\n",
       "    }\n",
       "\n",
       "    .dataframe thead th {\n",
       "        text-align: right;\n",
       "    }\n",
       "</style>\n",
       "<table border=\"1\" class=\"dataframe\">\n",
       "  <thead>\n",
       "    <tr style=\"text-align: right;\">\n",
       "      <th></th>\n",
       "      <th>Lead Origin</th>\n",
       "      <th>Lead Source</th>\n",
       "      <th>Do Not Email</th>\n",
       "      <th>Do Not Call</th>\n",
       "      <th>Converted</th>\n",
       "      <th>TotalVisits</th>\n",
       "      <th>Total Time Spent on Website</th>\n",
       "      <th>Page Views Per Visit</th>\n",
       "      <th>Last Activity</th>\n",
       "      <th>Country</th>\n",
       "      <th>...</th>\n",
       "      <th>Get updates on DM Content</th>\n",
       "      <th>Lead Profile</th>\n",
       "      <th>City</th>\n",
       "      <th>Asymmetrique Activity Index</th>\n",
       "      <th>Asymmetrique Profile Index</th>\n",
       "      <th>Asymmetrique Activity Score</th>\n",
       "      <th>Asymmetrique Profile Score</th>\n",
       "      <th>I agree to pay the amount through cheque</th>\n",
       "      <th>A free copy of Mastering The Interview</th>\n",
       "      <th>Last Notable Activity</th>\n",
       "    </tr>\n",
       "  </thead>\n",
       "  <tbody>\n",
       "    <tr>\n",
       "      <th>0</th>\n",
       "      <td>API</td>\n",
       "      <td>Olark Chat</td>\n",
       "      <td>No</td>\n",
       "      <td>No</td>\n",
       "      <td>0</td>\n",
       "      <td>0.0</td>\n",
       "      <td>0</td>\n",
       "      <td>0.0</td>\n",
       "      <td>Page Visited on Website</td>\n",
       "      <td>NaN</td>\n",
       "      <td>...</td>\n",
       "      <td>No</td>\n",
       "      <td>Select</td>\n",
       "      <td>Select</td>\n",
       "      <td>02.Medium</td>\n",
       "      <td>02.Medium</td>\n",
       "      <td>15.0</td>\n",
       "      <td>15.0</td>\n",
       "      <td>No</td>\n",
       "      <td>No</td>\n",
       "      <td>Modified</td>\n",
       "    </tr>\n",
       "    <tr>\n",
       "      <th>1</th>\n",
       "      <td>API</td>\n",
       "      <td>Organic Search</td>\n",
       "      <td>No</td>\n",
       "      <td>No</td>\n",
       "      <td>0</td>\n",
       "      <td>5.0</td>\n",
       "      <td>674</td>\n",
       "      <td>2.5</td>\n",
       "      <td>Email Opened</td>\n",
       "      <td>India</td>\n",
       "      <td>...</td>\n",
       "      <td>No</td>\n",
       "      <td>Select</td>\n",
       "      <td>Select</td>\n",
       "      <td>02.Medium</td>\n",
       "      <td>02.Medium</td>\n",
       "      <td>15.0</td>\n",
       "      <td>15.0</td>\n",
       "      <td>No</td>\n",
       "      <td>No</td>\n",
       "      <td>Email Opened</td>\n",
       "    </tr>\n",
       "    <tr>\n",
       "      <th>2</th>\n",
       "      <td>Landing Page Submission</td>\n",
       "      <td>Direct Traffic</td>\n",
       "      <td>No</td>\n",
       "      <td>No</td>\n",
       "      <td>1</td>\n",
       "      <td>2.0</td>\n",
       "      <td>1532</td>\n",
       "      <td>2.0</td>\n",
       "      <td>Email Opened</td>\n",
       "      <td>India</td>\n",
       "      <td>...</td>\n",
       "      <td>No</td>\n",
       "      <td>Potential Lead</td>\n",
       "      <td>Mumbai</td>\n",
       "      <td>02.Medium</td>\n",
       "      <td>01.High</td>\n",
       "      <td>14.0</td>\n",
       "      <td>20.0</td>\n",
       "      <td>No</td>\n",
       "      <td>Yes</td>\n",
       "      <td>Email Opened</td>\n",
       "    </tr>\n",
       "    <tr>\n",
       "      <th>3</th>\n",
       "      <td>Landing Page Submission</td>\n",
       "      <td>Direct Traffic</td>\n",
       "      <td>No</td>\n",
       "      <td>No</td>\n",
       "      <td>0</td>\n",
       "      <td>1.0</td>\n",
       "      <td>305</td>\n",
       "      <td>1.0</td>\n",
       "      <td>Unreachable</td>\n",
       "      <td>India</td>\n",
       "      <td>...</td>\n",
       "      <td>No</td>\n",
       "      <td>Select</td>\n",
       "      <td>Mumbai</td>\n",
       "      <td>02.Medium</td>\n",
       "      <td>01.High</td>\n",
       "      <td>13.0</td>\n",
       "      <td>17.0</td>\n",
       "      <td>No</td>\n",
       "      <td>No</td>\n",
       "      <td>Modified</td>\n",
       "    </tr>\n",
       "    <tr>\n",
       "      <th>4</th>\n",
       "      <td>Landing Page Submission</td>\n",
       "      <td>Google</td>\n",
       "      <td>No</td>\n",
       "      <td>No</td>\n",
       "      <td>1</td>\n",
       "      <td>2.0</td>\n",
       "      <td>1428</td>\n",
       "      <td>1.0</td>\n",
       "      <td>Converted to Lead</td>\n",
       "      <td>India</td>\n",
       "      <td>...</td>\n",
       "      <td>No</td>\n",
       "      <td>Select</td>\n",
       "      <td>Mumbai</td>\n",
       "      <td>02.Medium</td>\n",
       "      <td>01.High</td>\n",
       "      <td>15.0</td>\n",
       "      <td>18.0</td>\n",
       "      <td>No</td>\n",
       "      <td>No</td>\n",
       "      <td>Modified</td>\n",
       "    </tr>\n",
       "  </tbody>\n",
       "</table>\n",
       "<p>5 rows × 35 columns</p>\n",
       "</div>"
      ],
      "text/plain": [
       "               Lead Origin     Lead Source Do Not Email Do Not Call  \\\n",
       "0                      API      Olark Chat           No          No   \n",
       "1                      API  Organic Search           No          No   \n",
       "2  Landing Page Submission  Direct Traffic           No          No   \n",
       "3  Landing Page Submission  Direct Traffic           No          No   \n",
       "4  Landing Page Submission          Google           No          No   \n",
       "\n",
       "   Converted  TotalVisits  Total Time Spent on Website  Page Views Per Visit  \\\n",
       "0          0          0.0                            0                   0.0   \n",
       "1          0          5.0                          674                   2.5   \n",
       "2          1          2.0                         1532                   2.0   \n",
       "3          0          1.0                          305                   1.0   \n",
       "4          1          2.0                         1428                   1.0   \n",
       "\n",
       "             Last Activity Country  ... Get updates on DM Content  \\\n",
       "0  Page Visited on Website     NaN  ...                        No   \n",
       "1             Email Opened   India  ...                        No   \n",
       "2             Email Opened   India  ...                        No   \n",
       "3              Unreachable   India  ...                        No   \n",
       "4        Converted to Lead   India  ...                        No   \n",
       "\n",
       "     Lead Profile    City Asymmetrique Activity Index  \\\n",
       "0          Select  Select                   02.Medium   \n",
       "1          Select  Select                   02.Medium   \n",
       "2  Potential Lead  Mumbai                   02.Medium   \n",
       "3          Select  Mumbai                   02.Medium   \n",
       "4          Select  Mumbai                   02.Medium   \n",
       "\n",
       "  Asymmetrique Profile Index Asymmetrique Activity Score  \\\n",
       "0                  02.Medium                        15.0   \n",
       "1                  02.Medium                        15.0   \n",
       "2                    01.High                        14.0   \n",
       "3                    01.High                        13.0   \n",
       "4                    01.High                        15.0   \n",
       "\n",
       "  Asymmetrique Profile Score I agree to pay the amount through cheque  \\\n",
       "0                       15.0                                       No   \n",
       "1                       15.0                                       No   \n",
       "2                       20.0                                       No   \n",
       "3                       17.0                                       No   \n",
       "4                       18.0                                       No   \n",
       "\n",
       "  A free copy of Mastering The Interview Last Notable Activity  \n",
       "0                                     No              Modified  \n",
       "1                                     No          Email Opened  \n",
       "2                                    Yes          Email Opened  \n",
       "3                                     No              Modified  \n",
       "4                                     No              Modified  \n",
       "\n",
       "[5 rows x 35 columns]"
      ]
     },
     "execution_count": 9,
     "metadata": {},
     "output_type": "execute_result"
    }
   ],
   "source": [
    "#dropping Lead Number columns \n",
    "df_leads.drop([\"Lead Number\",\"Prospect ID\"], axis=1, inplace = True)\n",
    "df_leads.head()"
   ]
  },
  {
   "cell_type": "markdown",
   "metadata": {},
   "source": [
    "Fixing \"Select\" values, changing them to NaN, this is due to the fact that user did not select any value from the options"
   ]
  },
  {
   "cell_type": "code",
   "execution_count": 10,
   "metadata": {},
   "outputs": [],
   "source": [
    "# Converting 'Select' values to NaN.\n",
    "df_leads = df_leads.replace('Select', np.nan)"
   ]
  },
  {
   "cell_type": "markdown",
   "metadata": {},
   "source": [
    "Changing all columns to lower case"
   ]
  },
  {
   "cell_type": "code",
   "execution_count": 11,
   "metadata": {},
   "outputs": [],
   "source": [
    "# changing  all columns values to lower case\n",
    "for col in df_leads.columns:\n",
    "    df_leads[col] = df_leads[col].apply(lambda s: s.lower() if type(s)==str else s)"
   ]
  },
  {
   "cell_type": "markdown",
   "metadata": {},
   "source": [
    "#####  no Handling Missing Data and Structural Errors"
   ]
  },
  {
   "cell_type": "code",
   "execution_count": 12,
   "metadata": {},
   "outputs": [
    {
     "data": {
      "text/plain": [
       "Lead Origin                                         0\n",
       "Lead Source                                        36\n",
       "Do Not Email                                        0\n",
       "Do Not Call                                         0\n",
       "Converted                                           0\n",
       "TotalVisits                                       137\n",
       "Total Time Spent on Website                         0\n",
       "Page Views Per Visit                              137\n",
       "Last Activity                                     103\n",
       "Country                                          2461\n",
       "Specialization                                   3380\n",
       "How did you hear about X Education               7250\n",
       "What is your current occupation                  2690\n",
       "What matters most to you in choosing a course    2709\n",
       "Search                                              0\n",
       "Magazine                                            0\n",
       "Newspaper Article                                   0\n",
       "X Education Forums                                  0\n",
       "Newspaper                                           0\n",
       "Digital Advertisement                               0\n",
       "Through Recommendations                             0\n",
       "Receive More Updates About Our Courses              0\n",
       "Tags                                             3353\n",
       "Lead Quality                                     4767\n",
       "Update me on Supply Chain Content                   0\n",
       "Get updates on DM Content                           0\n",
       "Lead Profile                                     6855\n",
       "City                                             3669\n",
       "Asymmetrique Activity Index                      4218\n",
       "Asymmetrique Profile Index                       4218\n",
       "Asymmetrique Activity Score                      4218\n",
       "Asymmetrique Profile Score                       4218\n",
       "I agree to pay the amount through cheque            0\n",
       "A free copy of Mastering The Interview              0\n",
       "Last Notable Activity                               0\n",
       "dtype: int64"
      ]
     },
     "execution_count": 12,
     "metadata": {},
     "output_type": "execute_result"
    }
   ],
   "source": [
    "#Review null values per column\n",
    "df_leads.isnull().sum()"
   ]
  },
  {
   "cell_type": "code",
   "execution_count": 13,
   "metadata": {},
   "outputs": [
    {
     "name": "stdout",
     "output_type": "stream",
     "text": [
      "Lead Origin                                       0.00\n",
      "Lead Source                                       0.39\n",
      "Do Not Email                                      0.00\n",
      "Do Not Call                                       0.00\n",
      "Converted                                         0.00\n",
      "TotalVisits                                       1.48\n",
      "Total Time Spent on Website                       0.00\n",
      "Page Views Per Visit                              1.48\n",
      "Last Activity                                     1.11\n",
      "Country                                          26.63\n",
      "Specialization                                   36.58\n",
      "How did you hear about X Education               78.46\n",
      "What is your current occupation                  29.11\n",
      "What matters most to you in choosing a course    29.32\n",
      "Search                                            0.00\n",
      "Magazine                                          0.00\n",
      "Newspaper Article                                 0.00\n",
      "X Education Forums                                0.00\n",
      "Newspaper                                         0.00\n",
      "Digital Advertisement                             0.00\n",
      "Through Recommendations                           0.00\n",
      "Receive More Updates About Our Courses            0.00\n",
      "Tags                                             36.29\n",
      "Lead Quality                                     51.59\n",
      "Update me on Supply Chain Content                 0.00\n",
      "Get updates on DM Content                         0.00\n",
      "Lead Profile                                     74.19\n",
      "City                                             39.71\n",
      "Asymmetrique Activity Index                      45.65\n",
      "Asymmetrique Profile Index                       45.65\n",
      "Asymmetrique Activity Score                      45.65\n",
      "Asymmetrique Profile Score                       45.65\n",
      "I agree to pay the amount through cheque          0.00\n",
      "A free copy of Mastering The Interview            0.00\n",
      "Last Notable Activity                             0.00\n",
      "dtype: float64\n"
     ]
    }
   ],
   "source": [
    "# Calculate the percentage of null values for each column\n",
    "null_percentage = (df_leads.isnull().sum() / len(df_leads)* 100) .round(2)\n",
    "\n",
    "# Display the percentage of null values per column\n",
    "print(null_percentage)"
   ]
  },
  {
   "cell_type": "markdown",
   "metadata": {},
   "source": [
    "Drop columns with more than 45% missing data"
   ]
  },
  {
   "cell_type": "code",
   "execution_count": 15,
   "metadata": {},
   "outputs": [
    {
     "name": "stdout",
     "output_type": "stream",
     "text": [
      "<class 'pandas.core.frame.DataFrame'>\n",
      "RangeIndex: 9240 entries, 0 to 9239\n",
      "Data columns (total 28 columns):\n",
      " #   Column                                         Non-Null Count  Dtype  \n",
      "---  ------                                         --------------  -----  \n",
      " 0   Lead Origin                                    9240 non-null   object \n",
      " 1   Lead Source                                    9204 non-null   object \n",
      " 2   Do Not Email                                   9240 non-null   object \n",
      " 3   Do Not Call                                    9240 non-null   object \n",
      " 4   Converted                                      9240 non-null   int64  \n",
      " 5   TotalVisits                                    9103 non-null   float64\n",
      " 6   Total Time Spent on Website                    9240 non-null   int64  \n",
      " 7   Page Views Per Visit                           9103 non-null   float64\n",
      " 8   Last Activity                                  9137 non-null   object \n",
      " 9   Country                                        6779 non-null   object \n",
      " 10  Specialization                                 5860 non-null   object \n",
      " 11  What is your current occupation                6550 non-null   object \n",
      " 12  What matters most to you in choosing a course  6531 non-null   object \n",
      " 13  Search                                         9240 non-null   object \n",
      " 14  Magazine                                       9240 non-null   object \n",
      " 15  Newspaper Article                              9240 non-null   object \n",
      " 16  X Education Forums                             9240 non-null   object \n",
      " 17  Newspaper                                      9240 non-null   object \n",
      " 18  Digital Advertisement                          9240 non-null   object \n",
      " 19  Through Recommendations                        9240 non-null   object \n",
      " 20  Receive More Updates About Our Courses         9240 non-null   object \n",
      " 21  Tags                                           5887 non-null   object \n",
      " 22  Update me on Supply Chain Content              9240 non-null   object \n",
      " 23  Get updates on DM Content                      9240 non-null   object \n",
      " 24  City                                           5571 non-null   object \n",
      " 25  I agree to pay the amount through cheque       9240 non-null   object \n",
      " 26  A free copy of Mastering The Interview         9240 non-null   object \n",
      " 27  Last Notable Activity                          9240 non-null   object \n",
      "dtypes: float64(2), int64(2), object(24)\n",
      "memory usage: 2.0+ MB\n"
     ]
    }
   ],
   "source": [
    "cols = df_leads.columns\n",
    "\n",
    "for i in cols:\n",
    "    if (100 * (df_leads[i].isnull().sum() / len(df_leads.index))) >= 45:\n",
    "        df_leads.drop(i, axis=1, inplace=True)\n",
    "\n",
    "# Check the updated DataFrame\n",
    "df_leads.info()"
   ]
  },
  {
   "cell_type": "markdown",
   "metadata": {},
   "source": [
    "Reduced from 37 to 28 columns from previous cleanups, but not done yet, as some columns might contain important information, will analyze each.\n",
    "Removed columns with more than 45% null content:\n",
    "11 - Country\n",
    "13 - How did you hear about X Education\n",
    "25 - Lead Quality\n",
    "28 - Lead Profile\n",
    "30 - Asymmetrique Activity Index\n",
    "31 - Asymmetrique Profile Index\n",
    "32 - Asymmetrique Activity Score\n",
    "33 - Asymmetrique Profile Score\n"
   ]
  },
  {
   "cell_type": "markdown",
   "metadata": {},
   "source": [
    "##### Analyzing per Data Type (Categorical vs. Numerical)"
   ]
  },
  {
   "cell_type": "code",
   "execution_count": null,
   "metadata": {},
   "outputs": [],
   "source": [
    "# New DataFrame for Dtype and null values in the same column\n",
    "df_null_dtype = pd.DataFrame({\n",
    "    'Dtype': df_leads.dtypes,\n",
    "    'Null Values': df_leads.isnull().sum()\n",
    "})\n",
    "\n",
    "# Display the summary DataFrame\n",
    "print(df_null_dtype)"
   ]
  },
  {
   "cell_type": "markdown",
   "metadata": {},
   "source": [
    "##### Categorical Missing Data\n",
    "\n",
    "\n",
    "\n"
   ]
  },
  {
   "cell_type": "code",
   "execution_count": null,
   "metadata": {},
   "outputs": [],
   "source": [
    "# Filter to show only columns with dtype 'object' and null values greater than 0\n",
    "df_null_dtype_object_with_nulls = df_null_dtype[(df_null_dtype['Dtype'] == 'object') & (df_null_dtype['Null Values'] > 0)]\n",
    "\n",
    "# Display the filtered summary DataFrame\n",
    "print(df_null_dtype_object_with_nulls)"
   ]
  },
  {
   "cell_type": "markdown",
   "metadata": {},
   "source": [
    "##### Categorical Missing Data by column\n",
    "- [Lead Source](#lead-source)\n",
    "- [Last Activity](#last-activity)\n",
    "- [Country](#country)\n",
    "- [Specialization](#specialization)\n",
    "- [What is your current occupation](#what-is-your-current-occupation)\n",
    "- [What matters most to you in choosing a course](#what-matters-most-to-you-in-choosing-a-course)\n",
    "\n",
    "\n",
    "\n",
    "Lead Quality - assigned by intuition of an employee, NaN values will be imputed by \"Not Sure\"."
   ]
  },
  {
   "cell_type": "markdown",
   "metadata": {},
   "source": [
    "##### 2 - Lead Origin"
   ]
  },
  {
   "cell_type": "code",
   "execution_count": 17,
   "metadata": {},
   "outputs": [
    {
     "data": {
      "text/plain": [
       "Lead Origin\n",
       "landing page submission    4886\n",
       "api                        3580\n",
       "lead add form               718\n",
       "lead import                  55\n",
       "quick add form                1\n",
       "Name: count, dtype: int64"
      ]
     },
     "execution_count": 17,
     "metadata": {},
     "output_type": "execute_result"
    }
   ],
   "source": [
    "#Lead Origin\n",
    "df_leads['Lead Origin'].value_counts(dropna=False)"
   ]
  },
  {
   "cell_type": "code",
   "execution_count": 20,
   "metadata": {},
   "outputs": [
    {
     "data": {
      "image/png": "[encoded data removed]",
      "text/plain": [
       "<Figure size 1500x500 with 1 Axes>"
      ]
     },
     "metadata": {},
     "output_type": "display_data"
    }
   ],
   "source": [
    "#visualizing the spread of the variable \n",
    "\n",
    "fig, axs = plt.subplots(figsize = (15,5))\n",
    "sns.countplot(x = 'Lead Origin', hue = 'Converted', data = df_leads)\n",
    "xticks(rotation = 90)\n",
    "plt.show()"
   ]
  },
  {
   "cell_type": "markdown",
   "metadata": {},
   "source": [
    "API and Landing Page Submission bring higher number of leads as well as conversion.\n",
    "Lead Add Form has a very high conversion rate but count of leads are not very high.\n",
    "Lead Import and Quick Add Form get very few leads.\n",
    "In order to improve overall lead conversion rate, we have to improve lead converion of API and Landing Page Submission origin and generate more leads from Lead Add Form.\n",
    "\n",
    "\"Landing Page Submission\" and \"API\" are the primary sources of leads, with Landing Page Submission being slightly more effective in terms of conversion rate.\n",
    "\"Lead Add Form\" appears to be more efficient, with a higher proportion of leads converting, despite its lower volume.\n",
    "Improving the conversion rate of leads from \"API\" could be a focus, as it has a high number of non-converting leads.\n",
    "\n",
    "Predictive Power:\n",
    "\n",
    "The chart shows that different lead origins have different conversion rates. For instance, \"Lead Add Form\" has a higher conversion rate compared to \"API.\" This indicates that the origin of a lead can provide insight into how likely that lead is to convert, which is valuable information for predicting conversions.\n",
    "Categorical Impact:\n",
    "\n",
    "\"Lead Origin\" is a categorical feature that indicates the source of the lead, which can have a significant influence on conversion behavior. If certain origins are consistently associated with high or low conversions, this column will help the model differentiate between high-quality and low-quality leads.\n",
    "Feature Encoding:\n",
    "\n",
    "You can encode \"Lead Origin\" using techniques like one-hot encoding to allow the model to use this information effectively. The resulting features can then be used by the machine learning model to identify the importance of each lead origin in predicting conversion.\n",
    "Correlation:\n",
    "\n",
    "Even if the correlation between \"Lead Origin\" and the target variable (conversion) isn't very high, categorical features often provide non-linear relationships that machine learning models (especially tree-based models like Random Forest or Gradient Boosting) can capture effectively.\n",
    "Based on this analysis, I would suggest keeping the \"Lead Origin\" column in the model. It appears to provide information that could be useful in predicting whether a lead will convert or not. If during feature selection or feature importance analysis it turns out to be less important, it can be dropped, but it is worthwhile to include it initially.\n",
    "\n",
    "02 - Lead Origin Keep"
   ]
  },
  {
   "cell_type": "markdown",
   "metadata": {},
   "source": [
    "##### 3 - Lead Source "
   ]
  },
  {
   "cell_type": "code",
   "execution_count": 22,
   "metadata": {},
   "outputs": [
    {
     "data": {
      "text/plain": [
       "Lead Source\n",
       "google               2873\n",
       "direct traffic       2543\n",
       "olark chat           1755\n",
       "organic search       1154\n",
       "reference             534\n",
       "welingak website      142\n",
       "referral sites        125\n",
       "facebook               55\n",
       "bing                    6\n",
       "click2call              4\n",
       "social media            2\n",
       "live chat               2\n",
       "press_release           2\n",
       "pay per click ads       1\n",
       "blog                    1\n",
       "welearn                 1\n",
       "welearnblog_home        1\n",
       "youtubechannel          1\n",
       "testone                 1\n",
       "nc_edm                  1\n",
       "Name: count, dtype: int64"
      ]
     },
     "execution_count": 22,
     "metadata": {},
     "output_type": "execute_result"
    }
   ],
   "source": [
    "#checking for mode value\n",
    "df_leads['Lead Source'].value_counts()"
   ]
  },
  {
   "cell_type": "markdown",
   "metadata": {},
   "source": [
    "Bining"
   ]
  },
  {
   "cell_type": "code",
   "execution_count": 34,
   "metadata": {},
   "outputs": [
    {
     "name": "stdout",
     "output_type": "stream",
     "text": [
      "Lead Source\n",
      "google              2855\n",
      "direct traffic      2512\n",
      "olark chat          1751\n",
      "organic search      1125\n",
      "reference            442\n",
      "welingak website     129\n",
      "referral sites       123\n",
      "social media          33\n",
      "other                 20\n",
      "Name: count, dtype: int64\n"
     ]
    }
   ],
   "source": [
    "\n",
    "# Standardize category names to lowercase\n",
    "df_leads['Lead Source'] = df_leads['Lead Source'].str.lower()\n",
    "\n",
    "# Replace variations with consistent names\n",
    "df_leads['Lead Source'] = df_leads['Lead Source'].replace({'facebook': 'social media'})\n",
    "df_leads['Lead Source'] = df_leads['Lead Source'].replace({'youtube': 'social media'})\n",
    "\n",
    "# Remove rows where 'Lead Source' has irrelevant or test values\n",
    "df_leads = df_leads[~df_leads['Lead Source'].isin(['testone'])]\n",
    "\n",
    "# Replace synonyms with a consistent value\n",
    "df_leads['Lead Source'] = df_leads['Lead Source'].replace({'welearnblog_home': 'welearn', 'WeLearn': 'welearn'})\n",
    "\n",
    "\n",
    "# Recheck the value counts\n",
    "print(df_leads['Lead Source'].value_counts())\n"
   ]
  },
  {
   "cell_type": "markdown",
   "metadata": {},
   "source": [
    "Remove options with  values under 50"
   ]
  },
  {
   "cell_type": "code",
   "execution_count": 35,
   "metadata": {},
   "outputs": [
    {
     "name": "stdout",
     "output_type": "stream",
     "text": [
      "Lead Source\n",
      "google              2855\n",
      "direct traffic      2512\n",
      "olark chat          1751\n",
      "organic search      1125\n",
      "reference            442\n",
      "welingak website     129\n",
      "referral sites       123\n",
      "Other                 53\n",
      "Name: count, dtype: int64\n"
     ]
    }
   ],
   "source": [
    "# Define a cutoff value\n",
    "cutoff_value = 50\n",
    "\n",
    "# Create a list of lead sources to be replaced with 'Other'\n",
    "lead_sources_to_replace = df_leads['Lead Source'].value_counts()[df_leads['Lead Source'].value_counts() < cutoff_value].index.tolist()\n",
    "\n",
    "# Replace the infrequent lead sources with 'Other'\n",
    "df_leads['Lead Source'] = df_leads['Lead Source'].apply(lambda x: 'Other' if x in lead_sources_to_replace else x)\n",
    "\n",
    "# Check the updated value counts\n",
    "print(df_leads['Lead Source'].value_counts())"
   ]
  },
  {
   "cell_type": "code",
   "execution_count": 25,
   "metadata": {},
   "outputs": [
    {
     "data": {
      "image/png": "[encoded data removed]",
      "text/plain": [
       "<Figure size 1500x500 with 1 Axes>"
      ]
     },
     "metadata": {},
     "output_type": "display_data"
    }
   ],
   "source": [
    "#visualizing the spread of the variable \n",
    "\n",
    "fig, axs = plt.subplots(figsize = (15,5))\n",
    "sns.countplot(x = 'Lead Source', hue = 'Converted', data = df_leads)\n",
    "xticks(rotation = 90)\n",
    "plt.show()"
   ]
  },
  {
   "cell_type": "markdown",
   "metadata": {},
   "source": [
    "\n",
    "\n",
    "\n",
    "Different lead sources show varied conversion rates, indicating that the source has an impact on the likelihood of conversion. For instance, references and Google have higher conversion rates compared to direct traffic.\n",
    "\n",
    "\n",
    "\"Lead Source\" can help the model capture important distinctions between different types of leads. For example, leads from referrals or specific websites may be of higher quality, and the model can use this information to predict conversion more accurately.\n",
    "\n",
    "\n",
    "If certain lead sources, like \"Direct Traffic,\" have a low conversion rate, this information can be used for business insights as well, enabling targeted marketing strategies to improve conversion.\n",
    "To include \"Lead Source\" in a machine learning model, you would need to encode it properly, such as using one-hot encoding, which allows the model to recognize different sources and learn from their distinct behaviors.\n",
    "\n",
    "Including \"Lead Source\" will likely improve the model's performance, as it provides essential context regarding lead quality and conversion likelihood.\n",
    "\n",
    "3- Lead Sources  - Keep \n"
   ]
  },
  {
   "cell_type": "markdown",
   "metadata": {},
   "source": [
    "#### 4 - Do Not Email & 5 - Do Not Call"
   ]
  },
  {
   "cell_type": "code",
   "execution_count": 28,
   "metadata": {},
   "outputs": [
    {
     "data": {
      "image/png": "[encoded data removed]",
      "text/plain": [
       "<Figure size 1500x500 with 2 Axes>"
      ]
     },
     "metadata": {},
     "output_type": "display_data"
    }
   ],
   "source": [
    "#visualizing count of Variable based on Converted value\n",
    "\n",
    "plt.figure(figsize=(15, 5))\n",
    "\n",
    "# Plotting 'Do Not Call' with 'Converted' as hue\n",
    "ax1 = plt.subplot(1, 2, 1)\n",
    "sns.countplot(x='Do Not Call', hue='Converted', data=df_leads, ax=ax1)\n",
    "ax1.set_xticklabels(ax1.get_xticklabels(), rotation=90)\n",
    "\n",
    "# Plotting 'Do Not Email' with 'Converted' as hue\n",
    "ax2 = plt.subplot(1, 2, 2)\n",
    "sns.countplot(x='Do Not Email', hue='Converted', data=df_leads, ax=ax2)\n",
    "ax2.set_xticklabels(ax2.get_xticklabels(), rotation=90)\n",
    "\n",
    "plt.show()"
   ]
  },
  {
   "cell_type": "markdown",
   "metadata": {},
   "source": [
    "The \"Do Not Email\" feature seems to have a stronger effect on conversion compared to \"Do Not Call\", suggesting that restricting email communication negatively affects conversion rates.\n",
    "I beleive that the double negation is misleading, and most people rather not getting contact.\n",
    "Leads that do not want to be contacted (either by call or email) may be less likely to convert, and including this information helps the model understand this behavior\n",
    "As both charts have a significant amount of convertions, we will keep these columns\n",
    "\n",
    "4 - Do Not Email - Keep </br>\n",
    "5 - Do Not Call - Keep"
   ]
  },
  {
   "cell_type": "markdown",
   "metadata": {},
   "source": [
    "##### 6 - <b> Converted is the dependent variable (y), the one we are trying to achieve, we want to increase the number or 1's (conversions) <b>  \n",
    "\n",
    "6 - Converted - Keep"
   ]
  },
  {
   "cell_type": "markdown",
   "metadata": {},
   "source": [
    "##### 7 - Total Visits"
   ]
  },
  {
   "cell_type": "code",
   "execution_count": 36,
   "metadata": {},
   "outputs": [
    {
     "data": {
      "image/png": "[encoded data removed]",
      "text/plain": [
       "<Figure size 640x480 with 1 Axes>"
      ]
     },
     "metadata": {},
     "output_type": "display_data"
    }
   ],
   "source": [
    "#Total Visits\n",
    "#visualizing spread of variable\n",
    "\n",
    "sns.boxplot(df_leads['TotalVisits'])\n",
    "plt.show()\n"
   ]
  },
  {
   "cell_type": "markdown",
   "metadata": {},
   "source": [
    "There are outliers in the data, cap the outliers to 95%for analysis"
   ]
  },
  {
   "cell_type": "code",
   "execution_count": 37,
   "metadata": {},
   "outputs": [
    {
     "data": {
      "text/plain": [
       "count    9019.000000\n",
       "mean        3.206786\n",
       "std         2.990214\n",
       "min         0.000000\n",
       "5%          0.000000\n",
       "25%         1.000000\n",
       "50%         3.000000\n",
       "75%         5.000000\n",
       "95%         9.000000\n",
       "99%        13.820000\n",
       "max        17.000000\n",
       "Name: TotalVisits, dtype: float64"
      ]
     },
     "execution_count": 37,
     "metadata": {},
     "output_type": "execute_result"
    }
   ],
   "source": [
    "#checking percentile values for \"Total Visits\"\n",
    "\n",
    "df_leads['TotalVisits'].describe(percentiles=[.05,.25, .5, .75,.95, .99])"
   ]
  },
  {
   "cell_type": "code",
   "execution_count": 38,
   "metadata": {},
   "outputs": [
    {
     "data": {
      "image/png": "[encoded data removed]",
      "text/plain": [
       "<Figure size 640x480 with 1 Axes>"
      ]
     },
     "metadata": {},
     "output_type": "display_data"
    }
   ],
   "source": [
    "#Outlier Treatment: Remove top & bottom 5% of the Column Outlier values\n",
    "\n",
    "Q3 = df_leads.TotalVisits.quantile(0.99)\n",
    "df_leads = df_leads[(df_leads.TotalVisits <= Q3)]\n",
    "Q1 = df_leads.TotalVisits.quantile(0.01)\n",
    "df_leads = df_leads[(df_leads.TotalVisits >= Q1)]\n",
    "sns.boxplot(y=df_leads['TotalVisits'])\n",
    "plt.show()"
   ]
  },
  {
   "cell_type": "code",
   "execution_count": 39,
   "metadata": {},
   "outputs": [
    {
     "data": {
      "text/plain": [
       "<Axes: xlabel='Converted', ylabel='TotalVisits'>"
      ]
     },
     "execution_count": 39,
     "metadata": {},
     "output_type": "execute_result"
    },
    {
     "data": {
      "image/png": "[encoded data removed]",
      "text/plain": [
       "<Figure size 640x480 with 1 Axes>"
      ]
     },
     "metadata": {},
     "output_type": "display_data"
    }
   ],
   "source": [
    "\n",
    "sns.boxplot(y = 'TotalVisits', x = 'Converted', data = df_leads)"
   ]
  },
  {
   "cell_type": "markdown",
   "metadata": {},
   "source": [
    "wever, the upper quartile (75th percentile) is higher for converted leads, indicating that leads that convert tend to have a higher number of total visits compared to those that do not convert."
   ]
  },
  {
   "cell_type": "code",
   "execution_count": 42,
   "metadata": {},
   "outputs": [
    {
     "name": "stderr",
     "output_type": "stream",
     "text": [
      "c:\\Users\\Colli\\new_anaconda3\\envs\\dev\\lib\\site-packages\\seaborn\\_oldcore.py:1119: FutureWarning: use_inf_as_na option is deprecated and will be removed in a future version. Convert inf values to NaN before operating instead.\n",
      "  with pd.option_context('mode.use_inf_as_na', True):\n",
      "c:\\Users\\Colli\\new_anaconda3\\envs\\dev\\lib\\site-packages\\seaborn\\_oldcore.py:1119: FutureWarning: use_inf_as_na option is deprecated and will be removed in a future version. Convert inf values to NaN before operating instead.\n",
      "  with pd.option_context('mode.use_inf_as_na', True):\n"
     ]
    },
    {
     "data": {
      "image/png": "[encoded data removed]",
      "text/plain": [
       "<Figure size 700x500 with 1 Axes>"
      ]
     },
     "metadata": {},
     "output_type": "display_data"
    }
   ],
   "source": [
    "# Plotting the distribution of Total Visits split by Converted and Not Converted with x-axis limit\n",
    "plt.figure(figsize=(7, 5))\n",
    "\n",
    "# Plotting histogram and density for Not Converted\n",
    "sns.histplot(df_leads[df_leads['Converted'] == 0]['TotalVisits'], kde=True, color='blue', label='Not Converted', alpha=0.5)\n",
    "\n",
    "# Plotting histogram and density for Converted\n",
    "sns.histplot(df_leads[df_leads['Converted'] == 1]['TotalVisits'], kde=True, color='orange', label='Converted', alpha=0.5)\n",
    "\n",
    "# Adding title and labels\n",
    "plt.title('Distribution of Total Visits by Conversion Status (Limited Range)')\n",
    "plt.xlabel('Total Visits')\n",
    "plt.ylabel('Density')\n",
    "plt.xlim(0, 15)  # Limiting the x-axis to 0-15 for better visualization\n",
    "plt.legend()\n",
    "\n",
    "plt.show()"
   ]
  },
  {
   "cell_type": "code",
   "execution_count": 40,
   "metadata": {},
   "outputs": [
    {
     "name": "stderr",
     "output_type": "stream",
     "text": [
      "c:\\Users\\Colli\\new_anaconda3\\envs\\dev\\lib\\site-packages\\seaborn\\_oldcore.py:1119: FutureWarning: use_inf_as_na option is deprecated and will be removed in a future version. Convert inf values to NaN before operating instead.\n",
      "  with pd.option_context('mode.use_inf_as_na', True):\n"
     ]
    },
    {
     "data": {
      "image/png": "[encoded data removed]",
      "text/plain": [
       "<Figure size 640x480 with 1 Axes>"
      ]
     },
     "metadata": {},
     "output_type": "display_data"
    }
   ],
   "source": [
    "# Calculate skewness\n",
    "skewness = skew(df_leads['TotalVisits'])\n",
    "skewness_rounded = round(skewness, 2)\n",
    "\n",
    "# Plotting the distribution\n",
    "sns.histplot(df_leads['TotalVisits'], kde=True,  color='blue', stat=\"density\", bins=30)\n",
    "plt.title(f\"Skewness of Total Visits = {skewness_rounded}\")\n",
    "plt.xlabel('Total Visits')\n",
    "plt.ylabel('Density')\n",
    "plt.show()"
   ]
  },
  {
   "cell_type": "markdown",
   "metadata": {},
   "source": [
    "The distribution is heavily skewed to the left, with the highest peak around 0-2 visits.\n",
    "The overall pattern shows that many leads that do not convert tend to have fewer visits.\n",
    "However, compared to non-converted leads, a higher number of converted leads continue to visit beyond 3 times.\n",
    "he density for converted leads is higher at 4-6 visits compared to non-converted, indicating that more visits are generally associated with a higher likelihood of conversion.\n",
    "\n",
    "7 - Total Visits - Keep"
   ]
  },
  {
   "cell_type": "markdown",
   "metadata": {},
   "source": [
    "##### 8 - Total Time Spent on Website"
   ]
  },
  {
   "cell_type": "code",
   "execution_count": 54,
   "metadata": {},
   "outputs": [
    {
     "data": {
      "image/png": "[encoded data removed]",
      "text/plain": [
       "<Figure size 640x480 with 1 Axes>"
      ]
     },
     "metadata": {},
     "output_type": "display_data"
    }
   ],
   "source": [
    "\n",
    "#visualizing boxplot \n",
    "\n",
    "sns.boxplot(df_leads['Total Time Spent on Website'])\n",
    "plt.show()"
   ]
  },
  {
   "cell_type": "markdown",
   "metadata": {},
   "source": [
    "There is a single point plotted above the upper whisker, which indicates an outlier in the dataset.\n",
    "The data appears to be right-skewed, with some leads having values far greater than most other leads."
   ]
  },
  {
   "cell_type": "code",
   "execution_count": 45,
   "metadata": {},
   "outputs": [
    {
     "name": "stderr",
     "output_type": "stream",
     "text": [
      "c:\\Users\\Colli\\new_anaconda3\\envs\\dev\\lib\\site-packages\\seaborn\\_oldcore.py:1119: FutureWarning: use_inf_as_na option is deprecated and will be removed in a future version. Convert inf values to NaN before operating instead.\n",
      "  with pd.option_context('mode.use_inf_as_na', True):\n",
      "c:\\Users\\Colli\\new_anaconda3\\envs\\dev\\lib\\site-packages\\seaborn\\_oldcore.py:1119: FutureWarning: use_inf_as_na option is deprecated and will be removed in a future version. Convert inf values to NaN before operating instead.\n",
      "  with pd.option_context('mode.use_inf_as_na', True):\n"
     ]
    },
    {
     "data": {
      "image/png": "[encoded data removed]",
      "text/plain": [
       "<Figure size 1000x600 with 1 Axes>"
      ]
     },
     "metadata": {},
     "output_type": "display_data"
    }
   ],
   "source": [
    "# Plotting the distribution of \"Total Time Spent on Website\" split by Converted and Not Converted\n",
    "plt.figure(figsize=(10, 6))\n",
    "\n",
    "# Plotting histogram and density for Not Converted\n",
    "sns.histplot(df_leads[df_leads['Converted'] == 0]['Total Time Spent on Website'], kde=True, color='blue', label='Not Converted', alpha=0.5)\n",
    "\n",
    "# Plotting histogram and density for Converted\n",
    "sns.histplot(df_leads[df_leads['Converted'] == 1]['Total Time Spent on Website'], kde=True, color='orange', label='Converted', alpha=0.5)\n",
    "\n",
    "# Adding title and labels\n",
    "plt.title('Distribution of Total Time Spent on Website by Conversion Status')\n",
    "plt.xlabel('Total Time Spent on Website (in seconds)')\n",
    "plt.ylabel('Density')\n",
    "plt.legend()\n",
    "\n",
    "plt.show()"
   ]
  },
  {
   "cell_type": "markdown",
   "metadata": {},
   "source": [
    "uggesting that those who converted generally spent more time on the website compared to those who did not convert.\n",
    "-converted leads are heavily skewed to the left, with the highest density at very short times spent.\n",
    "Non-converted leads are heavily skewed to the left, with the highest density at very short times spent.\n",
    "Converted leads tend to spend more time on the website, as indicated by the higher density in the mid-range (500-1500 seconds).\n",
    "\n",
    "\n",
    "8 -  Total Time Spent on Website - Keep"
   ]
  },
  {
   "cell_type": "markdown",
   "metadata": {},
   "source": [
    "##### 9 - Page Views Per Visit"
   ]
  },
  {
   "cell_type": "code",
   "execution_count": 53,
   "metadata": {},
   "outputs": [
    {
     "name": "stdout",
     "output_type": "stream",
     "text": [
      "Percentage of null values in 'Page Views Per Visit': 0.00%\n"
     ]
    }
   ],
   "source": [
    "null_percentage = df_leads['Page Views Per Visit'].isnull().mean() * 100\n",
    "print(f\"Percentage of null values in 'Page Views Per Visit': {null_percentage:.2f}%\")"
   ]
  },
  {
   "cell_type": "code",
   "execution_count": 57,
   "metadata": {},
   "outputs": [
    {
     "data": {
      "image/png": "[encoded data removed]",
      "text/plain": [
       "<Figure size 640x480 with 1 Axes>"
      ]
     },
     "metadata": {},
     "output_type": "display_data"
    }
   ],
   "source": [
    "\n",
    "#visualizing boxplot \n",
    "\n",
    "sns.boxplot(df_leads['Page Views Per Visit'])\n",
    "plt.show()"
   ]
  },
  {
   "cell_type": "markdown",
   "metadata": {},
   "source": [
    "The IQR (from 1 to 4) indicates that the spread of most of the data is relatively narrow, with many values clustering between 1 and 4.\n",
    "There are several outliers above 6, suggesting that some data points are much higher than the general trend.\n",
    "the presence of outliers suggests that some users view an unusually high number of pages per visit, which could be considered when modeling or further analyzing user behavior. Depending on the context, you might consider handling these outliers (e.g., through capping or transformation) to improve model performance or understand user patterns better."
   ]
  },
  {
   "cell_type": "code",
   "execution_count": 58,
   "metadata": {},
   "outputs": [
    {
     "data": {
      "text/plain": [
       "count    8928.000000\n",
       "mean        2.303172\n",
       "std         1.993970\n",
       "min         0.000000\n",
       "5%          0.000000\n",
       "25%         1.000000\n",
       "50%         2.000000\n",
       "75%         3.000000\n",
       "95%         6.000000\n",
       "99%         9.000000\n",
       "max        13.000000\n",
       "Name: Page Views Per Visit, dtype: float64"
      ]
     },
     "execution_count": 58,
     "metadata": {},
     "output_type": "execute_result"
    }
   ],
   "source": [
    "#capping \n",
    "#checking percentile values for \"Page Views Per Visit\"\n",
    "\n",
    "df_leads['Page Views Per Visit'].describe(percentiles=[.05,.25, .5, .75,.95, .99])"
   ]
  },
  {
   "cell_type": "code",
   "execution_count": 60,
   "metadata": {},
   "outputs": [
    {
     "data": {
      "image/png": "[encoded data removed]",
      "text/plain": [
       "<Figure size 640x480 with 1 Axes>"
      ]
     },
     "metadata": {},
     "output_type": "display_data"
    }
   ],
   "source": [
    "#Outlier Treatment: Remove top & bottom 5% of the Column Outlier values\n",
    "\n",
    "# Remove top & bottom 5% of the Column Outlier values\n",
    "Q3 = df_leads[\"Page Views Per Visit\"].quantile(0.99)\n",
    "Q1 = df_leads[\"Page Views Per Visit\"].quantile(0.01)\n",
    "\n",
    "# Filtering the data to remove top and bottom 5%\n",
    "df_leads = df_leads[(df_leads[\"Page Views Per Visit\"] <= Q3) & (df_leads[\"Page Views Per Visit\"] >= Q1)]\n",
    "\n",
    "# Plotting the boxplot after outlier treatment\n",
    "sns.boxplot(y=df_leads[\"Page Views Per Visit\"])\n",
    "plt.title(\"Boxplot of 'Page Views Per Visit' after Outlier Removal\")\n",
    "plt.show()"
   ]
  },
  {
   "cell_type": "code",
   "execution_count": 61,
   "metadata": {},
   "outputs": [
    {
     "name": "stderr",
     "output_type": "stream",
     "text": [
      "c:\\Users\\Colli\\new_anaconda3\\envs\\dev\\lib\\site-packages\\seaborn\\_oldcore.py:1119: FutureWarning: use_inf_as_na option is deprecated and will be removed in a future version. Convert inf values to NaN before operating instead.\n",
      "  with pd.option_context('mode.use_inf_as_na', True):\n",
      "c:\\Users\\Colli\\new_anaconda3\\envs\\dev\\lib\\site-packages\\seaborn\\_oldcore.py:1119: FutureWarning: use_inf_as_na option is deprecated and will be removed in a future version. Convert inf values to NaN before operating instead.\n",
      "  with pd.option_context('mode.use_inf_as_na', True):\n"
     ]
    },
    {
     "data": {
      "image/png": "[encoded data removed]",
      "text/plain": [
       "<Figure size 700x500 with 1 Axes>"
      ]
     },
     "metadata": {},
     "output_type": "display_data"
    }
   ],
   "source": [
    "# Plotting the distribution of Total Visits split by Converted and Not Converted with x-axis limit\n",
    "plt.figure(figsize=(7, 5))\n",
    "\n",
    "# Plotting histogram and density for Not Converted\n",
    "sns.histplot(df_leads[df_leads['Converted'] == 0][\"Page Views Per Visit\"], kde=True, color='blue', label='Not Converted', alpha=0.5)\n",
    "\n",
    "# Plotting histogram and density for Converted\n",
    "sns.histplot(df_leads[df_leads['Converted'] == 1][\"Page Views Per Visit\"], kde=True, color='orange', label='Converted', alpha=0.5)\n",
    "\n",
    "# Adding title and labels\n",
    "plt.title('Distribution of \"Page Views Per Visit\" by Conversion Status (Limited Range)')\n",
    "plt.xlabel(\"Page Views Per Visit\")\n",
    "plt.ylabel('Density')\n",
    "plt.xlim(0, 15)  # Limiting the x-axis to 0-15 for better visualization\n",
    "plt.legend()\n",
    "\n",
    "plt.show()"
   ]
  },
  {
   "cell_type": "markdown",
   "metadata": {},
   "source": [
    "The distribution shows more blue bars compared to orange bars for higher counts of page views, which means that non-converted leads had more page views across different ranges. This indicates that having multiple page views alone does not guarantee conversion.\n",
    "Converted leads show a higher distribution for 3-5 page views, indicating that a moderate level of exploration is correlated with a higher chance of conversion.\n",
    "After 6 page views, the number of both converted and non-converted leads drops significantly, suggesting that extended browsing does not strongly influence conversion."
   ]
  },
  {
   "cell_type": "markdown",
   "metadata": {},
   "source": [
    "##### 10 - Last Activity"
   ]
  },
  {
   "cell_type": "code",
   "execution_count": null,
   "metadata": {},
   "outputs": [
    {
     "data": {
      "text/plain": [
       "count    9019.000000\n",
       "mean        3.206786\n",
       "std         2.990214\n",
       "min         0.000000\n",
       "5%          0.000000\n",
       "25%         1.000000\n",
       "50%         3.000000\n",
       "75%         5.000000\n",
       "95%         9.000000\n",
       "99%        13.820000\n",
       "max        17.000000\n",
       "Name: TotalVisits, dtype: float64"
      ]
     },
     "metadata": {},
     "output_type": "display_data"
    }
   ],
   "source": [
    "#checking percentile values for \"Total Visits\"\n",
    "\n",
    "df_leads['TotalVisits'].describe(percentiles=[.05,.25, .5, .75,.95, .99])"
   ]
  },
  {
   "cell_type": "code",
   "execution_count": 46,
   "metadata": {},
   "outputs": [
    {
     "data": {
      "text/plain": [
       "Last Activity\n",
       "email opened                    3388\n",
       "sms sent                        2704\n",
       "olark chat conversation          966\n",
       "page visited on website          567\n",
       "converted to lead                428\n",
       "email bounced                    311\n",
       "email link clicked               264\n",
       "form submitted on website        112\n",
       "unreachable                       87\n",
       "unsubscribed                      61\n",
       "had a phone conversation          24\n",
       "view in browser link clicked       5\n",
       "approached upfront                 5\n",
       "email received                     2\n",
       "email marked spam                  2\n",
       "visited booth in tradeshow         1\n",
       "resubscribed to emails             1\n",
       "Name: count, dtype: int64"
      ]
     },
     "execution_count": 46,
     "metadata": {},
     "output_type": "execute_result"
    }
   ],
   "source": [
    "# Last Activity checking for mode value\n",
    "df_leads['Last Activity'].value_counts()"
   ]
  },
  {
   "cell_type": "code",
   "execution_count": 47,
   "metadata": {},
   "outputs": [],
   "source": [
    "# Impute nan values with email opened  \n",
    "df_leads['Last Activity'] = df_leads['Last Activity'].replace(np.nan ,'Email Opened')"
   ]
  },
  {
   "cell_type": "code",
   "execution_count": 48,
   "metadata": {},
   "outputs": [
    {
     "data": {
      "text/plain": [
       "Last Activity\n",
       "email opened                    3388\n",
       "sms sent                        2704\n",
       "olark chat conversation          966\n",
       "page visited on website          567\n",
       "converted to lead                428\n",
       "email bounced                    311\n",
       "email link clicked               264\n",
       "form submitted on website        112\n",
       "unreachable                       87\n",
       "unsubscribed                      61\n",
       "had a phone conversation          24\n",
       "view in browser link clicked       5\n",
       "approached upfront                 5\n",
       "email received                     2\n",
       "email marked spam                  2\n",
       "visited booth in tradeshow         1\n",
       "resubscribed to emails             1\n",
       "Name: count, dtype: int64"
      ]
     },
     "execution_count": 48,
     "metadata": {},
     "output_type": "execute_result"
    }
   ],
   "source": [
    "# Last Activity checking for mode value\n",
    "df_leads['Last Activity'].value_counts()"
   ]
  },
  {
   "cell_type": "code",
   "execution_count": 49,
   "metadata": {},
   "outputs": [
    {
     "name": "stdout",
     "output_type": "stream",
     "text": [
      "Last Activity\n",
      "email opened                 3388\n",
      "sms sent                     2704\n",
      "olark chat conversation       966\n",
      "page visited on website       567\n",
      "converted to lead             428\n",
      "email bounced                 311\n",
      "email link clicked            264\n",
      "Other                         188\n",
      "form submitted on website     112\n",
      "Name: count, dtype: int64\n"
     ]
    }
   ],
   "source": [
    "# Define a cutoff value\n",
    "cutoff_value = 100\n",
    "\n",
    "# Create a list of lead sources to be replaced with 'Other'\n",
    "lead_sources_to_replace = df_leads['Last Activity'].value_counts()[df_leads['Last Activity'].value_counts() < cutoff_value].index.tolist()\n",
    "\n",
    "# Replace the infrequent lead sources with 'Other'\n",
    "df_leads['Last Activity'] = df_leads['Last Activity'].apply(lambda x: 'Other' if x in lead_sources_to_replace else x)\n",
    "\n",
    "# Check the updated value counts\n",
    "print(df_leads['Last Activity'].value_counts())"
   ]
  },
  {
   "cell_type": "code",
   "execution_count": 52,
   "metadata": {},
   "outputs": [
    {
     "data": {
      "image/png": "[encoded data removed]",
      "text/plain": [
       "<Figure size 1500x500 with 1 Axes>"
      ]
     },
     "metadata": {},
     "output_type": "display_data"
    }
   ],
   "source": [
    "#visualizing the spread of the variable \n",
    "\n",
    "fig, axs = plt.subplots(figsize = (15,5))\n",
    "sns.countplot(x = 'Last Activity', hue = 'Converted', data = df_leads)\n",
    "xticks(rotation = 90)\n",
    "plt.show()"
   ]
  },
  {
   "cell_type": "markdown",
   "metadata": {},
   "source": [
    "ggesting that while email engagement is common, it does not guarantee conversion.\n",
    "SMS Sent stands out as a major activity with a high conversion rate.\n",
    "The orange bar (converted) is higher than the blue bar (not converted), indicating that sending an SMS has a positive impact on conversion. This activity is associated with more conversions than non-conversions.\n",
    "The blue bar is much higher compared to the orange bar, indicating that leads with Olark Chat Conversation are more likely to not convert.\n",
    "This suggests that while chatting might engage the lead, it doesn’t necessarily lead to conversion.\n",
    "SMS Sent appears to be a strong driver of conversion. Leads who were sent an SMS are more likely to convert, indicating that SMS is an effective follow-up method.\n",
    "Email Opened is also a common last activity, but most of these leads do not convert, suggesting that simply opening an email is not sufficient to drive conversions.\n",
    "Olark Chat Conversation has a higher likelihood of non-conversion, which could mean that leads engaged through chat require further actions to convert.\n",
    "\n",
    "10 - Last Activity - Keep"
   ]
  },
  {
   "cell_type": "markdown",
   "metadata": {},
   "source": [
    "##### Country"
   ]
  },
  {
   "cell_type": "code",
   "execution_count": null,
   "metadata": {},
   "outputs": [],
   "source": [
    "# country \n",
    "df_leads.Country.value_counts()"
   ]
  },
  {
   "cell_type": "code",
   "execution_count": 23,
   "metadata": {},
   "outputs": [],
   "source": [
    "#imputing missing values with India as it's the mode\n",
    "df_leads['Country'] = df_leads['Country'].replace(np.nan,'india')"
   ]
  },
  {
   "cell_type": "code",
   "execution_count": null,
   "metadata": {},
   "outputs": [],
   "source": [
    "#plot  spread of Country after replacing null values\n",
    "\n",
    "fig, axs = plt.subplots(figsize = (15,5))\n",
    "sns.countplot(x = 'Country', hue = 'Converted', data = df_leads)\n",
    "xticks(rotation = 90)\n",
    "plt.show()"
   ]
  },
  {
   "cell_type": "code",
   "execution_count": null,
   "metadata": {},
   "outputs": [],
   "source": [
    "# Calculate the percentage of rows with \"India\" in the Country column\n",
    "india_percentage = (df_leads['Country'].value_counts()['india'] / df_leads['Country'].count()) * 100\n",
    "\n",
    "# Print the percentage\n",
    "print(f\"'India' within Country column: {india_percentage:.2f}%\")"
   ]
  },
  {
   "cell_type": "markdown",
   "metadata": {},
   "source": [
    "Because >96% of the data is mapped as india, making Country data heavily skewed and not required for the modeling process, will drop this column from the DF. "
   ]
  },
  {
   "cell_type": "code",
   "execution_count": 26,
   "metadata": {},
   "outputs": [],
   "source": [
    "#creating a list of columns to be droppped\n",
    "\n",
    "cols_to_drop=['Country']"
   ]
  },
  {
   "cell_type": "code",
   "execution_count": 27,
   "metadata": {},
   "outputs": [],
   "source": [
    "# dropping country column\n",
    "df_leads.drop('Country',axis=1,inplace =True)"
   ]
  },
  {
   "cell_type": "markdown",
   "metadata": {},
   "source": [
    "##### Specialization"
   ]
  },
  {
   "cell_type": "code",
   "execution_count": null,
   "metadata": {},
   "outputs": [],
   "source": [
    "#describe specialization\n",
    "df_leads.Specialization.describe()"
   ]
  },
  {
   "cell_type": "code",
   "execution_count": 29,
   "metadata": {},
   "outputs": [],
   "source": [
    "# Imputing NaN values with \"Not Specified\"\n",
    "\n",
    "df_leads['Specialization'] = df_leads['Specialization'].replace(np.nan, 'Not Specified')"
   ]
  },
  {
   "cell_type": "code",
   "execution_count": null,
   "metadata": {},
   "outputs": [],
   "source": [
    "#plotting spread of Specialization columnn \n",
    "\n",
    "fig, axs = plt.subplots(figsize = (15,5))\n",
    "sns.countplot(x = 'Specialization', hue = 'Converted', data = df_leads)\n",
    "xticks(rotation = 90)\n",
    "plt.show()\n",
    "\n"
   ]
  },
  {
   "cell_type": "code",
   "execution_count": 31,
   "metadata": {},
   "outputs": [],
   "source": [
    "#combining Management Specializations because they show similar trends\n",
    "\n",
    "df_leads['Specialization'] = np.where(df_leads['Specialization'].isin(['finance management', 'human resource management',\n",
    "                                                                       'marketing management', 'operations management',\n",
    "                                                                       'it projects management', 'supply chain management',\n",
    "                                                                       'healthcare Management', 'hospitality management',\n",
    "                                                                       'retail management']),\n",
    "                                       'Management_Specializations', df_leads['Specialization'])"
   ]
  },
  {
   "cell_type": "code",
   "execution_count": null,
   "metadata": {},
   "outputs": [],
   "source": [
    "# specializations\n",
    "df_leads.Specialization.value_counts()"
   ]
  },
  {
   "cell_type": "code",
   "execution_count": null,
   "metadata": {},
   "outputs": [],
   "source": [
    "#plotting the spred of new Specialization columnn \n",
    "\n",
    "fig, axs = plt.subplots(figsize = (15,5))\n",
    "sns.countplot(x = 'Specialization', hue = 'Converted', data = df_leads)\n",
    "xticks(rotation = 90)\n",
    "plt.show()\n"
   ]
  },
  {
   "cell_type": "markdown",
   "metadata": {},
   "source": [
    "!!!We see that specialization with Management in them have higher number of leads as well as leads converted. So this is definitely a significant variable and should not be dropped.\n",
    "\n",
    "Focus should be more on the Specialization with high conversion rate."
   ]
  },
  {
   "cell_type": "markdown",
   "metadata": {},
   "source": [
    "##### What is your current occupation?"
   ]
  },
  {
   "cell_type": "code",
   "execution_count": null,
   "metadata": {},
   "outputs": [],
   "source": [
    "#What is your current occupation\n",
    "\n",
    "df_leads['What is your current occupation'].value_counts(dropna=False)"
   ]
  },
  {
   "cell_type": "code",
   "execution_count": 35,
   "metadata": {},
   "outputs": [],
   "source": [
    "# Imputing NaN values with \"unemployed\"\n",
    "\n",
    "df_leads['What is your current occupation'] = df_leads['What is your current occupation'].replace(np.nan, 'unemployed')"
   ]
  },
  {
   "cell_type": "code",
   "execution_count": null,
   "metadata": {},
   "outputs": [],
   "source": [
    "#plotting spread of Specialization columnn \n",
    "\n",
    "fig, axs = plt.subplots(figsize = (15,5))\n",
    "sns.countplot(x = 'What is your current occupation', hue = 'Converted', data = df_leads)\n",
    "xticks(rotation = 90)\n",
    "plt.show()"
   ]
  },
  {
   "cell_type": "markdown",
   "metadata": {},
   "source": [
    "!!!!Working Professionals going for the course have high chances of joining it.\n",
    "Unemployed leads are the most in terms of Absolute numbers.Working Professionals going for the course have high chances of joining it.\n",
    "Unemployed leads are the most in numbers but has around 30-35% conversion rate."
   ]
  },
  {
   "cell_type": "markdown",
   "metadata": {},
   "source": [
    "##### What matters most to you in choosing a course"
   ]
  },
  {
   "cell_type": "code",
   "execution_count": null,
   "metadata": {},
   "outputs": [],
   "source": [
    "#checking value counts\n",
    "\n",
    "df_leads['What matters most to you in choosing a course'].value_counts(dropna=False)"
   ]
  },
  {
   "cell_type": "code",
   "execution_count": 38,
   "metadata": {},
   "outputs": [],
   "source": [
    "# Imputing NaN values with \"unemployed\"\n",
    "\n",
    "df_leads['What matters most to you in choosing a course'] = df_leads['What matters most to you in choosing a course'].replace(np.nan, 'better career prospects')"
   ]
  },
  {
   "cell_type": "code",
   "execution_count": null,
   "metadata": {},
   "outputs": [],
   "source": [
    "#plotting spread of What matters most to you in choosing a course columnn \n",
    "\n",
    "fig, axs = plt.subplots(figsize = (15,5))\n",
    "sns.countplot(x = 'What matters most to you in choosing a course', hue = 'Converted', data = df_leads)\n",
    "xticks(rotation = 90)\n",
    "plt.show()"
   ]
  },
  {
   "cell_type": "markdown",
   "metadata": {},
   "source": [
    "Highly skewed column, will add to drop list"
   ]
  },
  {
   "cell_type": "code",
   "execution_count": null,
   "metadata": {},
   "outputs": [],
   "source": [
    "#Append to the cols_to_drop List\n",
    "cols_to_drop.append('What matters most to you in choosing a course')\n",
    "cols_to_drop"
   ]
  },
  {
   "cell_type": "code",
   "execution_count": null,
   "metadata": {},
   "outputs": [],
   "source": [
    "# !!!!!!!!!!!!!!!!!!!!!!!\n",
    "# 'How did you hear about X Education' impute 'other' as if leads has not selected means it is not in options\n",
    "leads_data['How did you hear about X Education']=leads_data['How did you hear about X Education'].fillna('other')"
   ]
  },
  {
   "cell_type": "markdown",
   "metadata": {},
   "source": [
    "##### Numerical Missing Data\n",
    "\n"
   ]
  },
  {
   "cell_type": "code",
   "execution_count": null,
   "metadata": {},
   "outputs": [],
   "source": [
    "# Filter to show only columns with dtype 'float64' or 'int64' and null values greater than 0\n",
    "df_null_dtype_numeric_with_nulls = df_null_dtype[\n",
    "    ((df_null_dtype['Dtype'] == 'float64') | (df_null_dtype['Dtype'] == 'int64')) & (df_null_dtype['Null Values'] > 0)\n",
    "]\n",
    "\n",
    "# Display the filtered summary DataFrame\n",
    "print(df_null_dtype_numeric_with_nulls)"
   ]
  },
  {
   "cell_type": "markdown",
   "metadata": {},
   "source": [
    "##### Numerical Data cleaning \n",
    "- [TotalVisits](#totalvisits)\n",
    "- [Page Views Per Visit](#page-views-per-visit)\n",
    "\n",
    "TotalVisits\n",
    "Page Views Per Visit\n",
    "Asymmetrique columns have values 1, 2, 3 which is score assigned to each customer based on their activity and their profile. Will replace blank with 0 score.\n",
    "Page Visits nulls will be be replaced with 0."
   ]
  },
  {
   "cell_type": "markdown",
   "metadata": {},
   "source": [
    "!!!The Median for converted "
   ]
  },
  {
   "cell_type": "markdown",
   "metadata": {},
   "source": [
    "Most users/customers are visiting fewer times, with very few having higher visit counts.\n",
    "The positive skew indicates that there might be some outliers or a small group of users who have a significantly higher number of visits compared to the rest.\n",
    "This distribution can be useful in understanding the behavior of users/customers, showing that a majority do not make frequent visits, while a smaller proportion are more engaged."
   ]
  },
  {
   "cell_type": "markdown",
   "metadata": {},
   "source": [
    "##### Page Views Per Visit"
   ]
  },
  {
   "cell_type": "code",
   "execution_count": null,
   "metadata": {},
   "outputs": [],
   "source": [
    "df_leads['Page Views Per Visit'].describe()"
   ]
  },
  {
   "cell_type": "code",
   "execution_count": null,
   "metadata": {},
   "outputs": [],
   "source": [
    "sns.boxplot(df_leads['Page Views Per Visit'])"
   ]
  },
  {
   "cell_type": "markdown",
   "metadata": {},
   "source": [
    "There are outliers in the data, cap the outliers to 95%for analysis"
   ]
  },
  {
   "cell_type": "code",
   "execution_count": null,
   "metadata": {},
   "outputs": [],
   "source": [
    "#checking percentile values for \"Page Views Per Visit\"\n",
    "\n",
    "df_leads['Page Views Per Visit'].describe(percentiles=[.05,.25, .5, .75,.95, .99])"
   ]
  },
  {
   "cell_type": "code",
   "execution_count": null,
   "metadata": {},
   "outputs": [],
   "source": [
    "#Outlier Treatment: Remove top & bottom 5% of the Column Outlier values\n",
    "\n",
    "Q3 = df_leads[\"Page Views Per Visit\"].quantile(0.95)\n",
    "df_leads = df_leads[(df_leads[\"Page Views Per Visit\"] <= Q3)]\n",
    "Q1 = df_leads[\"Page Views Per Visit\"].quantile(0.05)\n",
    "df_leads = df_leads[(df_leads[\"Page Views Per Visit\"] >= Q1)]\n",
    "sns.boxplot(y=df_leads['TotalVisits'])\n",
    "plt.show()"
   ]
  },
  {
   "cell_type": "code",
   "execution_count": null,
   "metadata": {},
   "outputs": [],
   "source": [
    "\n",
    "sns.boxplot(y = 'Page Views Per Visit', x = 'Converted', data = df_leads)"
   ]
  },
  {
   "cell_type": "code",
   "execution_count": null,
   "metadata": {},
   "outputs": [],
   "source": [
    "# Calculate skewness\n",
    "skewness = skew(df_leads['Page Views Per Visit'])\n",
    "skewness_rounded = round(skewness, 2)\n",
    "\n",
    "# Plotting the distribution\n",
    "sns.histplot(df_leads['Page Views Per Visit'], kde=True,  color='blue', stat=\"density\", bins=30)\n",
    "plt.title(f\"Skewness of Page Views Per Visit = {skewness_rounded}\")\n",
    "plt.xlabel('Page Views Per Visit')\n",
    "plt.ylabel('Density')\n",
    "plt.show()"
   ]
  },
  {
   "cell_type": "markdown",
   "metadata": {},
   "source": [
    "!!Median for converted and unconverted leads is the same.\n",
    "Nothing can be said specifically for lead conversion from Page Views Per Visit\n",
    "Most users seem to view 1-2 pages per visit, with fewer users viewing more than that.\n",
    "The distribution has some minor peaks indicating that there are distinct groups of users who tend to view a specific number of pages, such as 2, 3, or 4 pages, before exiting.\n",
    "Overall, the skewness is low, which means that while the data is slightly skewed to the right, it is relatively balanced, with no extreme outliers.\n",
    "This suggests that while most users view only a few pages per visit, there is still a significant portion of users viewing a moderate number of pages, indicating a varied level of engagement across different visitors."
   ]
  },
  {
   "cell_type": "markdown",
   "metadata": {},
   "source": [
    "### Other Colums cleanup"
   ]
  },
  {
   "cell_type": "markdown",
   "metadata": {},
   "source": [
    "##### Tags"
   ]
  },
  {
   "cell_type": "code",
   "execution_count": null,
   "metadata": {},
   "outputs": [],
   "source": [
    "#checking value counts of Tag variable\n",
    "df_leads['Tags'].value_counts(dropna=False)\n"
   ]
  },
  {
   "cell_type": "code",
   "execution_count": null,
   "metadata": {},
   "outputs": [],
   "source": [
    "#plotting spread of Tags columnn \n",
    "\n",
    "fig, axs = plt.subplots(figsize = (15,5))\n",
    "sns.countplot(x = 'Tags', hue = 'Converted', data = df_leads)\n",
    "xticks(rotation = 90)\n",
    "plt.show()"
   ]
  },
  {
   "cell_type": "markdown",
   "metadata": {},
   "source": [
    "##### Lead Source"
   ]
  },
  {
   "cell_type": "code",
   "execution_count": null,
   "metadata": {},
   "outputs": [],
   "source": [
    "#check value counts of Lead Source column\n",
    "\n",
    "df_leads['Lead Source'].value_counts(dropna=False)"
   ]
  },
  {
   "cell_type": "code",
   "execution_count": null,
   "metadata": {},
   "outputs": [],
   "source": [
    "#plotting spread of Lead Source columnn \n",
    "\n",
    "fig, axs = plt.subplots(figsize = (15,5))\n",
    "sns.countplot(x = 'Lead Source', hue = 'Converted', data = df_leads)\n",
    "xticks(rotation = 90)\n",
    "plt.show()"
   ]
  },
  {
   "cell_type": "markdown",
   "metadata": {},
   "source": [
    "!!***Google and direct trafic most leads come from\n",
    "high conversion rates for refernce welingak website.  \n",
    " improve overall lead conversion rate, focus should be on improving lead converion of olark chat, organic search, direct traffic, and google leads and generate more leads from reference and welingak website."
   ]
  },
  {
   "cell_type": "markdown",
   "metadata": {},
   "source": []
  },
  {
   "cell_type": "markdown",
   "metadata": {},
   "source": [
    "---"
   ]
  },
  {
   "cell_type": "markdown",
   "metadata": {},
   "source": [
    "### Correlation"
   ]
  },
  {
   "cell_type": "code",
   "execution_count": null,
   "metadata": {},
   "outputs": [],
   "source": [
    "# Selecting only the numerical columns\n",
    "numerical_df = df_leads.select_dtypes(include=['float64', 'int64'])\n",
    "\n",
    "# Calculating the correlation matrix\n",
    "correlation_matrix = numerical_df.corr()\n",
    "\n",
    "# Displaying the correlation matrix\n",
    "print(correlation_matrix)"
   ]
  },
  {
   "cell_type": "code",
   "execution_count": null,
   "metadata": {},
   "outputs": [],
   "source": [
    "plt.figure(figsize=(10, 8))\n",
    "sns.heatmap(correlation_matrix, annot=True, cmap='coolwarm', linewidths=0.5)\n",
    "plt.title('Correlation Heatmap')\n",
    "plt.show()"
   ]
  },
  {
   "cell_type": "markdown",
   "metadata": {},
   "source": [
    "Converted vs. Total Time Spent on Website: There is a moderate positive correlation (0.35) between \"Converted\" and \"Total Time Spent on Website\". This indicates that leads that spend more time on the website are more likely to convert.\n",
    "\n",
    "Converted vs. TotalVisits: There is a very weak positive correlation (0.05) between \"Converted\" and \"TotalVisits\". This suggests that the number of total visits to the website does not strongly influence whether a lead converts or not.\n",
    "\n",
    "Converted vs. Page Views Per Visit: There is an extremely weak negative correlation (-0.0049) between \"Converted\" and \"Page Views Per Visit\", implying that page views per visit do not have much impact on conversions.\n",
    "\n",
    "Correlation among the features:\n",
    "\n",
    "TotalVisits vs. Page Views Per Visit: There is a moderate positive correlation, which suggests that more total visits are generally associated with a higher number of page views per visit.\n",
    "TotalVisits vs. Total Time Spent on Website: There is a moderate positive correlation, meaning that an increase in total visits is generally associated with more time spent on the website.\n",
    "TotalVisits_sqrt is likely a transformed version of \"TotalVisits\", and it also shows moderate correlations with the other variables, which might have been created to normalize the distribution.\n",
    "In summary, \"Total Time Spent on Website\" is the only variable with a somewhat meaningful correlation with conversion, indicating that investing efforts in increasing time spent on the website might lead to better conversion rates. Other variables, such as \"TotalVisits\" and \"Page Views Per Visit,\" do not seem to have a strong effect on conversion."
   ]
  },
  {
   "cell_type": "code",
   "execution_count": null,
   "metadata": {},
   "outputs": [],
   "source": [
    "sample_size = min(len(df_leads), 10000)\n",
    "subset = df_leads.sample(n=sample_size, random_state=42)\n",
    "correlation_matrix = subset.corr()"
   ]
  },
  {
   "cell_type": "markdown",
   "metadata": {},
   "source": [
    "### Heatmap"
   ]
  },
  {
   "cell_type": "code",
   "execution_count": null,
   "metadata": {},
   "outputs": [],
   "source": [
    "sns.heatmap(correlation_matrix, annot=True, cmap=\"coolwarm\")\n",
    "plt.show()"
   ]
  },
  {
   "cell_type": "markdown",
   "metadata": {},
   "source": [
    "## Feature Engineering and Transformation"
   ]
  },
  {
   "cell_type": "markdown",
   "metadata": {},
   "source": [
    "### Discretization\n",
    "- Convert continuous variables into discrete ones if necessary (e.g., binning).\n"
   ]
  },
  {
   "cell_type": "markdown",
   "metadata": {},
   "source": [
    "### Categorical Encoding\n",
    "- Use one-hot encoding for categorical features."
   ]
  },
  {
   "cell_type": "markdown",
   "metadata": {},
   "source": [
    "### Variable Transformation\n",
    "- Apply log or square-root transformations for skewed data."
   ]
  },
  {
   "cell_type": "markdown",
   "metadata": {},
   "source": [
    "### Scaling\n",
    "- Normalize or standardize numerical features."
   ]
  },
  {
   "cell_type": "markdown",
   "metadata": {},
   "source": [
    "### Dimensionality Reduction\n",
    "- Use Principal Component Analysis (PCA) to reduce feature dimensions."
   ]
  },
  {
   "cell_type": "markdown",
   "metadata": {},
   "source": [
    "## Model Implementation"
   ]
  },
  {
   "cell_type": "markdown",
   "metadata": {},
   "source": [
    "### Supervised Learning\n",
    "- Logistic Regression, Decision Trees, Random Forest, Neural Networks."
   ]
  },
  {
   "cell_type": "markdown",
   "metadata": {},
   "source": [
    "### Model Evaluation\n",
    "- Calculate baseline metric (accuracy, precision, recall) and performance on unseen data.\n"
   ]
  },
  {
   "cell_type": "markdown",
   "metadata": {},
   "source": [
    "## Model Optimization"
   ]
  },
  {
   "cell_type": "markdown",
   "metadata": {},
   "source": [
    "### Hyperparameter Tuning\n",
    "- Grid search, random search."
   ]
  },
  {
   "cell_type": "markdown",
   "metadata": {},
   "source": [
    "### Regularization\n",
    "- Optional L2 regularization."
   ]
  },
  {
   "cell_type": "markdown",
   "metadata": {},
   "source": [
    "### Visualizations\n",
    "- Learning curves, feature importance, showing iterative improvements."
   ]
  },
  {
   "cell_type": "markdown",
   "metadata": {},
   "source": [
    "## Presentation"
   ]
  },
  {
   "cell_type": "markdown",
   "metadata": {},
   "source": [
    "### Clear Objectives\n",
    "- Communicate the problem statement and solution."
   ]
  },
  {
   "cell_type": "markdown",
   "metadata": {},
   "source": [
    "### Model Performance\n",
    "- Use visualizations (learning curves, comparison of models)."
   ]
  },
  {
   "cell_type": "markdown",
   "metadata": {},
   "source": [
    "### Interactivity (Optional)\n",
    "- If meaningful, incorporate interactive visualizations."
   ]
  }
 ],
 "metadata": {
  "kernelspec": {
   "display_name": "dev",
   "language": "python",
   "name": "python3"
  },
  "language_info": {
   "codemirror_mode": {
    "name": "ipython",
    "version": 3
   },
   "file_extension": ".py",
   "mimetype": "text/x-python",
   "name": "python",
   "nbconvert_exporter": "python",
   "pygments_lexer": "ipython3",
   "version": "3.10.14"
  }
 },
 "nbformat": 4,
 "nbformat_minor": 2
}
